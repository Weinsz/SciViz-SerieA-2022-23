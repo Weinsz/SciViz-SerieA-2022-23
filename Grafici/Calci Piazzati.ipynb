{
 "cells": [
  {
   "attachments": {},
   "cell_type": "markdown",
   "metadata": {},
   "source": [
    "# Serie A - Pressing\n"
   ]
  },
  {
   "cell_type": "code",
   "execution_count": 2,
   "metadata": {},
   "outputs": [],
   "source": [
    "import matplotlib.pyplot as plt\n",
    "import matplotlib.font_manager as fm\n",
    "import matplotlib.ticker as ticker\n",
    "import matplotlib.patheffects as path_effects\n",
    "from matplotlib import rcParams\n",
    "from matplotlib import cm\n",
    "import matplotlib.colors as mcolors\n",
    "from highlight_text import fig_text\n",
    "import pandas as pd\n",
    "import numpy as np\n",
    "\n",
    "from PIL import Image\n",
    "import urllib\n",
    "import os"
   ]
  },
  {
   "cell_type": "code",
   "execution_count": 3,
   "metadata": {},
   "outputs": [],
   "source": [
    "font_path = \"assets/fonts/\"\n",
    "for x in os.listdir(font_path):\n",
    "    for y in os.listdir(f\"{font_path}/{x}\"):\n",
    "        if y.split(\".\")[-1] == \"ttf\":\n",
    "            fm.fontManager.addfont(f\"{font_path}/{x}/{y}\")\n",
    "            try:\n",
    "                fm.FontProperties(weight=y.split(\"-\")[-1].split(\".\")[0].lower(), fname=y.split(\"-\")[0])\n",
    "            except Exception:\n",
    "                continue\n",
    "\n",
    "plt.style.use(\"assets/stylesheets/soc_base.mplstyle\")\n"
   ]
  },
  {
   "attachments": {},
   "cell_type": "markdown",
   "metadata": {},
   "source": [
    "## Leggere il dataframe"
   ]
  },
  {
   "cell_type": "code",
   "execution_count": 4,
   "metadata": {},
   "outputs": [
    {
     "name": "stderr",
     "output_type": "stream",
     "text": [
      "[WDM] - Downloading: 100%|██████████| 6.80M/6.80M [00:00<00:00, 14.7MB/s]\n"
     ]
    },
    {
     "data": {
      "text/html": [
       "<div>\n",
       "<style scoped>\n",
       "    .dataframe tbody tr th:only-of-type {\n",
       "        vertical-align: middle;\n",
       "    }\n",
       "\n",
       "    .dataframe tbody tr th {\n",
       "        vertical-align: top;\n",
       "    }\n",
       "\n",
       "    .dataframe thead th {\n",
       "        text-align: right;\n",
       "    }\n",
       "</style>\n",
       "<table border=\"1\" class=\"dataframe\">\n",
       "  <thead>\n",
       "    <tr style=\"text-align: right;\">\n",
       "      <th></th>\n",
       "      <th>№</th>\n",
       "      <th>Team</th>\n",
       "      <th>M</th>\n",
       "      <th>W</th>\n",
       "      <th>D</th>\n",
       "      <th>L</th>\n",
       "      <th>G</th>\n",
       "      <th>GA</th>\n",
       "      <th>PTS</th>\n",
       "      <th>xG</th>\n",
       "      <th>NPxG</th>\n",
       "      <th>xGA</th>\n",
       "      <th>NPxGA</th>\n",
       "      <th>NPxGD</th>\n",
       "      <th>PPDA</th>\n",
       "      <th>OPPDA</th>\n",
       "      <th>DC</th>\n",
       "      <th>ODC</th>\n",
       "      <th>xPTS</th>\n",
       "    </tr>\n",
       "  </thead>\n",
       "  <tbody>\n",
       "    <tr>\n",
       "      <th>0</th>\n",
       "      <td>1</td>\n",
       "      <td>Napoli</td>\n",
       "      <td>34</td>\n",
       "      <td>26</td>\n",
       "      <td>5</td>\n",
       "      <td>3</td>\n",
       "      <td>70</td>\n",
       "      <td>23</td>\n",
       "      <td>83</td>\n",
       "      <td>64.83</td>\n",
       "      <td>57.98</td>\n",
       "      <td>27.27</td>\n",
       "      <td>25.75</td>\n",
       "      <td>32.24</td>\n",
       "      <td>9.46</td>\n",
       "      <td>16.64</td>\n",
       "      <td>306</td>\n",
       "      <td>157</td>\n",
       "      <td>71.36</td>\n",
       "    </tr>\n",
       "    <tr>\n",
       "      <th>1</th>\n",
       "      <td>2</td>\n",
       "      <td>Juventus</td>\n",
       "      <td>34</td>\n",
       "      <td>20</td>\n",
       "      <td>6</td>\n",
       "      <td>8</td>\n",
       "      <td>52</td>\n",
       "      <td>28</td>\n",
       "      <td>66</td>\n",
       "      <td>53.68</td>\n",
       "      <td>48.99</td>\n",
       "      <td>35.76</td>\n",
       "      <td>32.72</td>\n",
       "      <td>16.27</td>\n",
       "      <td>13.37</td>\n",
       "      <td>11.89</td>\n",
       "      <td>185</td>\n",
       "      <td>185</td>\n",
       "      <td>58.1</td>\n",
       "    </tr>\n",
       "    <tr>\n",
       "      <th>2</th>\n",
       "      <td>3</td>\n",
       "      <td>Lazio</td>\n",
       "      <td>34</td>\n",
       "      <td>19</td>\n",
       "      <td>7</td>\n",
       "      <td>8</td>\n",
       "      <td>52</td>\n",
       "      <td>26</td>\n",
       "      <td>64</td>\n",
       "      <td>46.85</td>\n",
       "      <td>41.38</td>\n",
       "      <td>40.35</td>\n",
       "      <td>39.59</td>\n",
       "      <td>1.79</td>\n",
       "      <td>14.95</td>\n",
       "      <td>13.57</td>\n",
       "      <td>240</td>\n",
       "      <td>183</td>\n",
       "      <td>49.98</td>\n",
       "    </tr>\n",
       "    <tr>\n",
       "      <th>3</th>\n",
       "      <td>4</td>\n",
       "      <td>Inter</td>\n",
       "      <td>34</td>\n",
       "      <td>20</td>\n",
       "      <td>3</td>\n",
       "      <td>11</td>\n",
       "      <td>62</td>\n",
       "      <td>35</td>\n",
       "      <td>63</td>\n",
       "      <td>66.38</td>\n",
       "      <td>62.57</td>\n",
       "      <td>29.85</td>\n",
       "      <td>27.57</td>\n",
       "      <td>35.00</td>\n",
       "      <td>9.79</td>\n",
       "      <td>17.93</td>\n",
       "      <td>310</td>\n",
       "      <td>160</td>\n",
       "      <td>71.38</td>\n",
       "    </tr>\n",
       "    <tr>\n",
       "      <th>4</th>\n",
       "      <td>5</td>\n",
       "      <td>AC Milan</td>\n",
       "      <td>34</td>\n",
       "      <td>17</td>\n",
       "      <td>10</td>\n",
       "      <td>7</td>\n",
       "      <td>55</td>\n",
       "      <td>39</td>\n",
       "      <td>61</td>\n",
       "      <td>61.28</td>\n",
       "      <td>59.00</td>\n",
       "      <td>36.69</td>\n",
       "      <td>32.88</td>\n",
       "      <td>26.12</td>\n",
       "      <td>9.28</td>\n",
       "      <td>13.07</td>\n",
       "      <td>245</td>\n",
       "      <td>186</td>\n",
       "      <td>62.25</td>\n",
       "    </tr>\n",
       "    <tr>\n",
       "      <th>5</th>\n",
       "      <td>6</td>\n",
       "      <td>Atalanta</td>\n",
       "      <td>34</td>\n",
       "      <td>17</td>\n",
       "      <td>7</td>\n",
       "      <td>10</td>\n",
       "      <td>56</td>\n",
       "      <td>41</td>\n",
       "      <td>58</td>\n",
       "      <td>53.74</td>\n",
       "      <td>47.48</td>\n",
       "      <td>39.16</td>\n",
       "      <td>36.88</td>\n",
       "      <td>10.60</td>\n",
       "      <td>11.14</td>\n",
       "      <td>12.40</td>\n",
       "      <td>291</td>\n",
       "      <td>172</td>\n",
       "      <td>55.69</td>\n",
       "    </tr>\n",
       "    <tr>\n",
       "      <th>6</th>\n",
       "      <td>7</td>\n",
       "      <td>Roma</td>\n",
       "      <td>34</td>\n",
       "      <td>17</td>\n",
       "      <td>7</td>\n",
       "      <td>10</td>\n",
       "      <td>45</td>\n",
       "      <td>33</td>\n",
       "      <td>58</td>\n",
       "      <td>57.83</td>\n",
       "      <td>50.90</td>\n",
       "      <td>27.42</td>\n",
       "      <td>25.14</td>\n",
       "      <td>25.76</td>\n",
       "      <td>12.47</td>\n",
       "      <td>10.66</td>\n",
       "      <td>208</td>\n",
       "      <td>127</td>\n",
       "      <td>65.05</td>\n",
       "    </tr>\n",
       "    <tr>\n",
       "      <th>7</th>\n",
       "      <td>8</td>\n",
       "      <td>Fiorentina</td>\n",
       "      <td>34</td>\n",
       "      <td>12</td>\n",
       "      <td>10</td>\n",
       "      <td>12</td>\n",
       "      <td>45</td>\n",
       "      <td>40</td>\n",
       "      <td>46</td>\n",
       "      <td>48.8</td>\n",
       "      <td>44.23</td>\n",
       "      <td>45.58</td>\n",
       "      <td>40.25</td>\n",
       "      <td>3.98</td>\n",
       "      <td>8.47</td>\n",
       "      <td>11.49</td>\n",
       "      <td>261</td>\n",
       "      <td>157</td>\n",
       "      <td>47.81</td>\n",
       "    </tr>\n",
       "    <tr>\n",
       "      <th>8</th>\n",
       "      <td>9</td>\n",
       "      <td>Udinese</td>\n",
       "      <td>34</td>\n",
       "      <td>11</td>\n",
       "      <td>13</td>\n",
       "      <td>10</td>\n",
       "      <td>45</td>\n",
       "      <td>41</td>\n",
       "      <td>46</td>\n",
       "      <td>43.55</td>\n",
       "      <td>42.03</td>\n",
       "      <td>44.41</td>\n",
       "      <td>39.76</td>\n",
       "      <td>2.26</td>\n",
       "      <td>12.78</td>\n",
       "      <td>10.01</td>\n",
       "      <td>242</td>\n",
       "      <td>202</td>\n",
       "      <td>46.82</td>\n",
       "    </tr>\n",
       "    <tr>\n",
       "      <th>9</th>\n",
       "      <td>10</td>\n",
       "      <td>Bologna</td>\n",
       "      <td>34</td>\n",
       "      <td>12</td>\n",
       "      <td>10</td>\n",
       "      <td>12</td>\n",
       "      <td>43</td>\n",
       "      <td>44</td>\n",
       "      <td>46</td>\n",
       "      <td>39.37</td>\n",
       "      <td>34.81</td>\n",
       "      <td>49.96</td>\n",
       "      <td>43.11</td>\n",
       "      <td>-8.30</td>\n",
       "      <td>9.96</td>\n",
       "      <td>13.72</td>\n",
       "      <td>153</td>\n",
       "      <td>211</td>\n",
       "      <td>40.61</td>\n",
       "    </tr>\n",
       "    <tr>\n",
       "      <th>10</th>\n",
       "      <td>11</td>\n",
       "      <td>Monza</td>\n",
       "      <td>34</td>\n",
       "      <td>12</td>\n",
       "      <td>10</td>\n",
       "      <td>12</td>\n",
       "      <td>42</td>\n",
       "      <td>45</td>\n",
       "      <td>46</td>\n",
       "      <td>39.34</td>\n",
       "      <td>35.54</td>\n",
       "      <td>47.98</td>\n",
       "      <td>47.22</td>\n",
       "      <td>-11.68</td>\n",
       "      <td>11.15</td>\n",
       "      <td>12.55</td>\n",
       "      <td>195</td>\n",
       "      <td>239</td>\n",
       "      <td>42.35</td>\n",
       "    </tr>\n",
       "    <tr>\n",
       "      <th>11</th>\n",
       "      <td>12</td>\n",
       "      <td>Torino</td>\n",
       "      <td>34</td>\n",
       "      <td>12</td>\n",
       "      <td>10</td>\n",
       "      <td>12</td>\n",
       "      <td>36</td>\n",
       "      <td>39</td>\n",
       "      <td>46</td>\n",
       "      <td>41.14</td>\n",
       "      <td>39.62</td>\n",
       "      <td>36.95</td>\n",
       "      <td>32.38</td>\n",
       "      <td>7.24</td>\n",
       "      <td>11.71</td>\n",
       "      <td>14.03</td>\n",
       "      <td>185</td>\n",
       "      <td>161</td>\n",
       "      <td>48.81</td>\n",
       "    </tr>\n",
       "    <tr>\n",
       "      <th>12</th>\n",
       "      <td>13</td>\n",
       "      <td>Sassuolo</td>\n",
       "      <td>34</td>\n",
       "      <td>12</td>\n",
       "      <td>8</td>\n",
       "      <td>14</td>\n",
       "      <td>41</td>\n",
       "      <td>50</td>\n",
       "      <td>44</td>\n",
       "      <td>43.83</td>\n",
       "      <td>37.74</td>\n",
       "      <td>44.43</td>\n",
       "      <td>41.38</td>\n",
       "      <td>-3.65</td>\n",
       "      <td>14.08</td>\n",
       "      <td>11.26</td>\n",
       "      <td>228</td>\n",
       "      <td>225</td>\n",
       "      <td>47.03</td>\n",
       "    </tr>\n",
       "    <tr>\n",
       "      <th>13</th>\n",
       "      <td>14</td>\n",
       "      <td>Empoli</td>\n",
       "      <td>34</td>\n",
       "      <td>9</td>\n",
       "      <td>11</td>\n",
       "      <td>14</td>\n",
       "      <td>31</td>\n",
       "      <td>44</td>\n",
       "      <td>38</td>\n",
       "      <td>35.17</td>\n",
       "      <td>34.41</td>\n",
       "      <td>57.92</td>\n",
       "      <td>53.36</td>\n",
       "      <td>-18.94</td>\n",
       "      <td>12.96</td>\n",
       "      <td>9.89</td>\n",
       "      <td>166</td>\n",
       "      <td>261</td>\n",
       "      <td>33.89</td>\n",
       "    </tr>\n",
       "    <tr>\n",
       "      <th>14</th>\n",
       "      <td>15</td>\n",
       "      <td>Salernitana</td>\n",
       "      <td>34</td>\n",
       "      <td>7</td>\n",
       "      <td>14</td>\n",
       "      <td>13</td>\n",
       "      <td>42</td>\n",
       "      <td>56</td>\n",
       "      <td>35</td>\n",
       "      <td>32.22</td>\n",
       "      <td>30.70</td>\n",
       "      <td>65.97</td>\n",
       "      <td>57.74</td>\n",
       "      <td>-27.05</td>\n",
       "      <td>14.28</td>\n",
       "      <td>9.85</td>\n",
       "      <td>124</td>\n",
       "      <td>263</td>\n",
       "      <td>27.85</td>\n",
       "    </tr>\n",
       "    <tr>\n",
       "      <th>15</th>\n",
       "      <td>16</td>\n",
       "      <td>Lecce</td>\n",
       "      <td>34</td>\n",
       "      <td>7</td>\n",
       "      <td>10</td>\n",
       "      <td>17</td>\n",
       "      <td>28</td>\n",
       "      <td>41</td>\n",
       "      <td>31</td>\n",
       "      <td>33.2</td>\n",
       "      <td>30.15</td>\n",
       "      <td>39.68</td>\n",
       "      <td>35.87</td>\n",
       "      <td>-5.72</td>\n",
       "      <td>11.11</td>\n",
       "      <td>8.30</td>\n",
       "      <td>125</td>\n",
       "      <td>211</td>\n",
       "      <td>42.06</td>\n",
       "    </tr>\n",
       "    <tr>\n",
       "      <th>16</th>\n",
       "      <td>17</td>\n",
       "      <td>Verona</td>\n",
       "      <td>34</td>\n",
       "      <td>7</td>\n",
       "      <td>9</td>\n",
       "      <td>18</td>\n",
       "      <td>28</td>\n",
       "      <td>51</td>\n",
       "      <td>30</td>\n",
       "      <td>33.7</td>\n",
       "      <td>32.93</td>\n",
       "      <td>46.01</td>\n",
       "      <td>45.25</td>\n",
       "      <td>-12.31</td>\n",
       "      <td>12.31</td>\n",
       "      <td>8.36</td>\n",
       "      <td>153</td>\n",
       "      <td>255</td>\n",
       "      <td>38.73</td>\n",
       "    </tr>\n",
       "    <tr>\n",
       "      <th>17</th>\n",
       "      <td>18</td>\n",
       "      <td>Spezia</td>\n",
       "      <td>34</td>\n",
       "      <td>5</td>\n",
       "      <td>12</td>\n",
       "      <td>17</td>\n",
       "      <td>28</td>\n",
       "      <td>56</td>\n",
       "      <td>27</td>\n",
       "      <td>36.14</td>\n",
       "      <td>33.10</td>\n",
       "      <td>58.99</td>\n",
       "      <td>54.42</td>\n",
       "      <td>-21.32</td>\n",
       "      <td>10.88</td>\n",
       "      <td>10.17</td>\n",
       "      <td>187</td>\n",
       "      <td>265</td>\n",
       "      <td>32.3</td>\n",
       "    </tr>\n",
       "    <tr>\n",
       "      <th>18</th>\n",
       "      <td>19</td>\n",
       "      <td>Cremonese</td>\n",
       "      <td>34</td>\n",
       "      <td>4</td>\n",
       "      <td>12</td>\n",
       "      <td>18</td>\n",
       "      <td>31</td>\n",
       "      <td>59</td>\n",
       "      <td>24</td>\n",
       "      <td>33.58</td>\n",
       "      <td>28.82</td>\n",
       "      <td>62.0</td>\n",
       "      <td>58.19</td>\n",
       "      <td>-29.38</td>\n",
       "      <td>12.83</td>\n",
       "      <td>9.50</td>\n",
       "      <td>165</td>\n",
       "      <td>266</td>\n",
       "      <td>29.53</td>\n",
       "    </tr>\n",
       "    <tr>\n",
       "      <th>19</th>\n",
       "      <td>20</td>\n",
       "      <td>Sampdoria</td>\n",
       "      <td>34</td>\n",
       "      <td>3</td>\n",
       "      <td>8</td>\n",
       "      <td>23</td>\n",
       "      <td>20</td>\n",
       "      <td>61</td>\n",
       "      <td>17</td>\n",
       "      <td>30.76</td>\n",
       "      <td>29.24</td>\n",
       "      <td>59.0</td>\n",
       "      <td>52.15</td>\n",
       "      <td>-22.90</td>\n",
       "      <td>11.93</td>\n",
       "      <td>9.23</td>\n",
       "      <td>176</td>\n",
       "      <td>259</td>\n",
       "      <td>28.67</td>\n",
       "    </tr>\n",
       "  </tbody>\n",
       "</table>\n",
       "</div>"
      ],
      "text/plain": [
       "     №         Team   M   W   D   L   G  GA  PTS     xG   NPxG    xGA  NPxGA  \\\n",
       "0    1       Napoli  34  26   5   3  70  23   83  64.83  57.98  27.27  25.75   \n",
       "1    2     Juventus  34  20   6   8  52  28   66  53.68  48.99  35.76  32.72   \n",
       "2    3        Lazio  34  19   7   8  52  26   64  46.85  41.38  40.35  39.59   \n",
       "3    4        Inter  34  20   3  11  62  35   63  66.38  62.57  29.85  27.57   \n",
       "4    5     AC Milan  34  17  10   7  55  39   61  61.28  59.00  36.69  32.88   \n",
       "5    6     Atalanta  34  17   7  10  56  41   58  53.74  47.48  39.16  36.88   \n",
       "6    7         Roma  34  17   7  10  45  33   58  57.83  50.90  27.42  25.14   \n",
       "7    8   Fiorentina  34  12  10  12  45  40   46   48.8  44.23  45.58  40.25   \n",
       "8    9      Udinese  34  11  13  10  45  41   46  43.55  42.03  44.41  39.76   \n",
       "9   10      Bologna  34  12  10  12  43  44   46  39.37  34.81  49.96  43.11   \n",
       "10  11        Monza  34  12  10  12  42  45   46  39.34  35.54  47.98  47.22   \n",
       "11  12       Torino  34  12  10  12  36  39   46  41.14  39.62  36.95  32.38   \n",
       "12  13     Sassuolo  34  12   8  14  41  50   44  43.83  37.74  44.43  41.38   \n",
       "13  14       Empoli  34   9  11  14  31  44   38  35.17  34.41  57.92  53.36   \n",
       "14  15  Salernitana  34   7  14  13  42  56   35  32.22  30.70  65.97  57.74   \n",
       "15  16        Lecce  34   7  10  17  28  41   31   33.2  30.15  39.68  35.87   \n",
       "16  17       Verona  34   7   9  18  28  51   30   33.7  32.93  46.01  45.25   \n",
       "17  18       Spezia  34   5  12  17  28  56   27  36.14  33.10  58.99  54.42   \n",
       "18  19    Cremonese  34   4  12  18  31  59   24  33.58  28.82   62.0  58.19   \n",
       "19  20    Sampdoria  34   3   8  23  20  61   17  30.76  29.24   59.0  52.15   \n",
       "\n",
       "    NPxGD   PPDA  OPPDA   DC  ODC   xPTS  \n",
       "0   32.24   9.46  16.64  306  157  71.36  \n",
       "1   16.27  13.37  11.89  185  185   58.1  \n",
       "2    1.79  14.95  13.57  240  183  49.98  \n",
       "3   35.00   9.79  17.93  310  160  71.38  \n",
       "4   26.12   9.28  13.07  245  186  62.25  \n",
       "5   10.60  11.14  12.40  291  172  55.69  \n",
       "6   25.76  12.47  10.66  208  127  65.05  \n",
       "7    3.98   8.47  11.49  261  157  47.81  \n",
       "8    2.26  12.78  10.01  242  202  46.82  \n",
       "9   -8.30   9.96  13.72  153  211  40.61  \n",
       "10 -11.68  11.15  12.55  195  239  42.35  \n",
       "11   7.24  11.71  14.03  185  161  48.81  \n",
       "12  -3.65  14.08  11.26  228  225  47.03  \n",
       "13 -18.94  12.96   9.89  166  261  33.89  \n",
       "14 -27.05  14.28   9.85  124  263  27.85  \n",
       "15  -5.72  11.11   8.30  125  211  42.06  \n",
       "16 -12.31  12.31   8.36  153  255  38.73  \n",
       "17 -21.32  10.88  10.17  187  265   32.3  \n",
       "18 -29.38  12.83   9.50  165  266  29.53  \n",
       "19 -22.90  11.93   9.23  176  259  28.67  "
      ]
     },
     "execution_count": 4,
     "metadata": {},
     "output_type": "execute_result"
    }
   ],
   "source": [
    "import ScraperFC as sfc\n",
    "import traceback\n",
    "\n",
    "# Initialize the Understat scraper\n",
    "scraper = sfc.Understat()\n",
    "try:\n",
    "    # Scrape the table\n",
    "    table = scraper.scrape_league_table(year=2023, league=\"Serie A\")\n",
    "    #formations = scraper.scrape_formations(year=2023, league=\"Serie A\")\n",
    "\n",
    "except:\n",
    "    # Catch and print any exceptions. This allows us to still close the\n",
    "    # scraper below, even if an exception occurs.\n",
    "    traceback.print_exc()\n",
    "finally:\n",
    "    # It\"s important to close the scraper when you\"re done with it. Otherwise,\n",
    "    # you\"ll have a bunch of webdrivers open and running in the background.\n",
    "    scraper.close()\n",
    "\n",
    "table"
   ]
  },
  {
   "cell_type": "code",
   "execution_count": 42,
   "metadata": {},
   "outputs": [
    {
     "data": {
      "text/html": [
       "<div>\n",
       "<style scoped>\n",
       "    .dataframe tbody tr th:only-of-type {\n",
       "        vertical-align: middle;\n",
       "    }\n",
       "\n",
       "    .dataframe tbody tr th {\n",
       "        vertical-align: top;\n",
       "    }\n",
       "\n",
       "    .dataframe thead th {\n",
       "        text-align: right;\n",
       "    }\n",
       "</style>\n",
       "<table border=\"1\" class=\"dataframe\">\n",
       "  <thead>\n",
       "    <tr style=\"text-align: right;\">\n",
       "      <th></th>\n",
       "      <th>team_id</th>\n",
       "      <th>Team</th>\n",
       "      <th>SP</th>\n",
       "      <th>OP</th>\n",
       "    </tr>\n",
       "  </thead>\n",
       "  <tbody>\n",
       "    <tr>\n",
       "      <th>0</th>\n",
       "      <td>9875</td>\n",
       "      <td>Napoli</td>\n",
       "      <td>17</td>\n",
       "      <td>41</td>\n",
       "    </tr>\n",
       "    <tr>\n",
       "      <th>1</th>\n",
       "      <td>9885</td>\n",
       "      <td>Juventus</td>\n",
       "      <td>17</td>\n",
       "      <td>26</td>\n",
       "    </tr>\n",
       "    <tr>\n",
       "      <th>2</th>\n",
       "      <td>8686</td>\n",
       "      <td>Roma</td>\n",
       "      <td>11</td>\n",
       "      <td>25</td>\n",
       "    </tr>\n",
       "    <tr>\n",
       "      <th>3</th>\n",
       "      <td>8636</td>\n",
       "      <td>Inter</td>\n",
       "      <td>10</td>\n",
       "      <td>39</td>\n",
       "    </tr>\n",
       "    <tr>\n",
       "      <th>4</th>\n",
       "      <td>8535</td>\n",
       "      <td>Fiorentina</td>\n",
       "      <td>10</td>\n",
       "      <td>26</td>\n",
       "    </tr>\n",
       "    <tr>\n",
       "      <th>5</th>\n",
       "      <td>8600</td>\n",
       "      <td>Udinese</td>\n",
       "      <td>9</td>\n",
       "      <td>28</td>\n",
       "    </tr>\n",
       "    <tr>\n",
       "      <th>6</th>\n",
       "      <td>8524</td>\n",
       "      <td>Atalanta</td>\n",
       "      <td>9</td>\n",
       "      <td>38</td>\n",
       "    </tr>\n",
       "    <tr>\n",
       "      <th>7</th>\n",
       "      <td>9876</td>\n",
       "      <td>Hellas Verona</td>\n",
       "      <td>7</td>\n",
       "      <td>16</td>\n",
       "    </tr>\n",
       "    <tr>\n",
       "      <th>8</th>\n",
       "      <td>9888</td>\n",
       "      <td>Lecce</td>\n",
       "      <td>6</td>\n",
       "      <td>15</td>\n",
       "    </tr>\n",
       "    <tr>\n",
       "      <th>9</th>\n",
       "      <td>8534</td>\n",
       "      <td>Empoli</td>\n",
       "      <td>6</td>\n",
       "      <td>19</td>\n",
       "    </tr>\n",
       "    <tr>\n",
       "      <th>10</th>\n",
       "      <td>6480</td>\n",
       "      <td>Salernitana</td>\n",
       "      <td>6</td>\n",
       "      <td>29</td>\n",
       "    </tr>\n",
       "    <tr>\n",
       "      <th>11</th>\n",
       "      <td>9804</td>\n",
       "      <td>Torino</td>\n",
       "      <td>6</td>\n",
       "      <td>28</td>\n",
       "    </tr>\n",
       "    <tr>\n",
       "      <th>12</th>\n",
       "      <td>7943</td>\n",
       "      <td>Sassuolo</td>\n",
       "      <td>6</td>\n",
       "      <td>24</td>\n",
       "    </tr>\n",
       "    <tr>\n",
       "      <th>13</th>\n",
       "      <td>6504</td>\n",
       "      <td>Monza</td>\n",
       "      <td>6</td>\n",
       "      <td>28</td>\n",
       "    </tr>\n",
       "    <tr>\n",
       "      <th>14</th>\n",
       "      <td>9857</td>\n",
       "      <td>Bologna</td>\n",
       "      <td>6</td>\n",
       "      <td>26</td>\n",
       "    </tr>\n",
       "    <tr>\n",
       "      <th>15</th>\n",
       "      <td>8564</td>\n",
       "      <td>Milan</td>\n",
       "      <td>6</td>\n",
       "      <td>36</td>\n",
       "    </tr>\n",
       "    <tr>\n",
       "      <th>16</th>\n",
       "      <td>8543</td>\n",
       "      <td>Lazio</td>\n",
       "      <td>5</td>\n",
       "      <td>42</td>\n",
       "    </tr>\n",
       "    <tr>\n",
       "      <th>17</th>\n",
       "      <td>7801</td>\n",
       "      <td>Cremonese</td>\n",
       "      <td>5</td>\n",
       "      <td>21</td>\n",
       "    </tr>\n",
       "    <tr>\n",
       "      <th>18</th>\n",
       "      <td>9882</td>\n",
       "      <td>Sampdoria</td>\n",
       "      <td>4</td>\n",
       "      <td>14</td>\n",
       "    </tr>\n",
       "    <tr>\n",
       "      <th>19</th>\n",
       "      <td>9881</td>\n",
       "      <td>Spezia</td>\n",
       "      <td>3</td>\n",
       "      <td>17</td>\n",
       "    </tr>\n",
       "  </tbody>\n",
       "</table>\n",
       "</div>"
      ],
      "text/plain": [
       "    team_id           Team  SP  OP\n",
       "0      9875         Napoli  17  41\n",
       "1      9885       Juventus  17  26\n",
       "2      8686           Roma  11  25\n",
       "3      8636          Inter  10  39\n",
       "4      8535     Fiorentina  10  26\n",
       "5      8600        Udinese   9  28\n",
       "6      8524       Atalanta   9  38\n",
       "7      9876  Hellas Verona   7  16\n",
       "8      9888          Lecce   6  15\n",
       "9      8534         Empoli   6  19\n",
       "10     6480    Salernitana   6  29\n",
       "11     9804         Torino   6  28\n",
       "12     7943       Sassuolo   6  24\n",
       "13     6504          Monza   6  28\n",
       "14     9857        Bologna   6  26\n",
       "15     8564          Milan   6  36\n",
       "16     8543          Lazio   5  42\n",
       "17     7801      Cremonese   5  21\n",
       "18     9882      Sampdoria   4  14\n",
       "19     9881         Spezia   3  17"
      ]
     },
     "execution_count": 42,
     "metadata": {},
     "output_type": "execute_result"
    }
   ],
   "source": [
    "df = pd.read_csv('data/set_pieces.csv', index_col=0)\n",
    "df = df.sort_values(by='SP', ascending=False).reset_index(drop=True)\n",
    "\n",
    "df"
   ]
  },
  {
   "cell_type": "code",
   "execution_count": 15,
   "metadata": {},
   "outputs": [
    {
     "name": "stderr",
     "output_type": "stream",
     "text": [
      "C:\\Users\\vince\\AppData\\Local\\Temp\\ipykernel_9264\\354109607.py:78: UserWarning: Trying to register the cmap 'SOC' which already exists.\n",
      "  cm.register_cmap(name='SOC', cmap=soc_cm)\n"
     ]
    }
   ],
   "source": [
    "'''\n",
    "gradient = [\n",
    "    '#de6f57',\n",
    "    '#d5724d',\n",
    "    '#cb7644',\n",
    "    '#c0783e',\n",
    "    '#b57b38',\n",
    "    '#a97d35',\n",
    "    '#9e7f34',\n",
    "    '#928134',\n",
    "    '#878137',\n",
    "    '#7c823a',\n",
    "    '#71823f',\n",
    "    '#668244',\n",
    "    '#5c814a',\n",
    "    '#528050',\n",
    "    '#497f56',\n",
    "    '#407d5b',\n",
    "    '#387b61',\n",
    "    '#317966',\n",
    "    '#2c776a',\n",
    "    '#29756e',\n",
    "    '#287271',\n",
    "]\n",
    "\n",
    "'''\n",
    "\n",
    "'''\n",
    "gradient = [\n",
    "'#146cf6',\n",
    "'#1878cf',\n",
    "'#01a6c3',\n",
    "'#00a589',\n",
    "'#029733',\n",
    "'#02ac02',\n",
    "'#899f84',\n",
    "'#cbc000',\n",
    "'#d2a900',\n",
    "'#d88300',\n",
    "'#d75609',\n",
    "'#da2908',\n",
    "'#cb0000'\n",
    "]\n",
    "'''\n",
    "gradient = [\n",
    "'#146cf6',\n",
    "'#1878cf',\n",
    "'#01a6c3',\n",
    "'#00a589',\n",
    "'#029733',\n",
    "'#02ac02',\n",
    "'#899f84',\n",
    "'#cbc000',\n",
    "'#d2a900',\n",
    "'#d88300',\n",
    "'#d75609',\n",
    "'#da2908',\n",
    "'#cb0000'\n",
    "]\n",
    "\n",
    "gradient.reverse()\n",
    "\n",
    "'''\n",
    "gradient = [\n",
    "'#cb0000',\n",
    "'#da2908',\n",
    "'#d88300',\n",
    "'#cbc000',\n",
    "'#02ac02',\n",
    "'#029733',\n",
    "'#00a589',\n",
    "'#01a6c3',\n",
    "'#1878cf',\n",
    "'#146cf6'\n",
    "]\n",
    "'''\n",
    "soc_cm = mcolors.LinearSegmentedColormap.from_list('SOC', gradient, N=50)\n",
    "cm.register_cmap(name='SOC', cmap=soc_cm)"
   ]
  },
  {
   "cell_type": "code",
   "execution_count": 16,
   "metadata": {},
   "outputs": [],
   "source": [
    "def plot_inequality(ax, fig, df):\n",
    "    '''\n",
    "    This function helps us save a bit of code to plot\n",
    "    the different inequality metrics of our visual\n",
    "    '''\n",
    "\n",
    "    data = df.copy()\n",
    "    data = (\n",
    "        data\n",
    "        .sort_values(by = \"SP\", ascending = False)\n",
    "        .reset_index(drop = True)\n",
    "    )\n",
    "    width = 0.7\n",
    "\n",
    "    #fouls_per_card = data['Falli'] / data['Gialli']\n",
    "    #fouls_per_card.sort_values(ascending=True)\n",
    "\n",
    "    # Declare CMAP & Normalization\n",
    "    norm = mcolors.Normalize(vmin=data['SP'].min(),vmax=data['SP'].max())\n",
    "    cmap = plt.get_cmap('SOC')\n",
    "    ax.bar(\n",
    "        data.index, \n",
    "        data['SP'],\n",
    "        color=cmap(norm(data['SP'])),\n",
    "        #ec = \"#000000\", \n",
    "        #fc = \"#74959A\", \n",
    "        #alpha = 1,\n",
    "        zorder = 3, \n",
    "        width = width\n",
    "    )\n",
    "\n",
    "    for index, value in enumerate(data['SP']):\n",
    "    \n",
    "        format_str = f\"{value}\"\n",
    "        text_ = ax.annotate(\n",
    "            xy = (index, value-0.05),\n",
    "            xytext = (1, -15),\n",
    "            text = format_str,\n",
    "            textcoords = \"offset points\",\n",
    "            rotation = 90,\n",
    "            ha = \"center\",\n",
    "            va = \"center\",\n",
    "            color = \"black\",\n",
    "            size = 15\n",
    "        )\n",
    "        text_.set_path_effects(\n",
    "            [path_effects.Stroke(linewidth=2, foreground=\"white\"), \n",
    "            path_effects.Normal()]\n",
    "        )\n",
    "\n",
    "    # --- Axes transformations\n",
    "    ax.grid(ls='--', lw=1, color='lightgrey', axis='y')\n",
    "    ax.set_xlim(-1, 20)\n",
    "    ax.spines[\"top\"].set(visible = False)\n",
    "    ax.spines[\"right\"].set(visible = False)\n",
    "    ax.spines[\"left\"].set(visible = False)\n",
    "    #ax.spines[\"bottom\"].set(visible = False)\n",
    "    ax.xaxis.set_ticks([])\n",
    "    ax.yaxis.set_ticks([x for x in range(0, 20, 2)])\n",
    "\n",
    "    '''\n",
    "    xticks_ = ax.xaxis.set_ticks(\n",
    "        ticks = data.index,\n",
    "        labels = []\n",
    "    )\n",
    "    '''\n",
    "\n",
    "    #ax.tick_params(labelsize = 8)\n",
    "\n",
    "    DC_to_FC = ax.transData.transform\n",
    "    FC_to_NFC = fig.transFigure.inverted().transform\n",
    "\n",
    "    # Native data to normalized data coordinates\n",
    "    DC_to_NFC = lambda x: FC_to_NFC(DC_to_FC(x))\n",
    "\n",
    "    fotmob_url = \"https://images.fotmob.com/image_resources/logo/teamlogo/\"\n",
    "    for index, teamId in enumerate(data[\"team_id\"]):\n",
    "        ax_coords = DC_to_NFC([index - 0.35, -ax.get_ylim()[1]*.05])\n",
    "        logo_ax = fig.add_axes([ax_coords[0], ax_coords[1], 0.03, 0.03], anchor = \"W\")\n",
    "        club_icon = Image.open(urllib.request.urlopen(f\"{fotmob_url}{teamId:.0f}.png\"))\n",
    "        logo_ax.imshow(club_icon)\n",
    "        logo_ax.axis(\"off\")\n",
    "    \n",
    "    #ax.tick_params(labelsize = 8)\n",
    "\n",
    "    # -- Figure title and arrows --------------------------------\n",
    "    \n",
    "    ax.annotate(\n",
    "        xy=(0,18),\n",
    "        xytext=(6, 18),#ax.get_ylim()[1]),\n",
    "        xycoords='data',\n",
    "        textcoords='data',\n",
    "        text='',\n",
    "        arrowprops=dict(arrowstyle='->',color='gray')\n",
    "    )\n",
    "    ax.annotate(\n",
    "        xy=(19,18),\n",
    "        xytext=(13, 18),\n",
    "        xycoords='data',\n",
    "        textcoords='data',\n",
    "        text='',\n",
    "        arrowprops=dict(arrowstyle='->',color='gray')\n",
    "    )\n",
    "    \n",
    "    ax.annotate(\n",
    "        xy=(2.8,18),\n",
    "        xytext=(6, 18),\n",
    "        text='+ forti su palla inattiva',\n",
    "        xycoords='data',\n",
    "        textcoords='offset points',\n",
    "        ha='center',\n",
    "        va='center',\n",
    "        size=12\n",
    "    )\n",
    "    ax.annotate(\n",
    "        xy=(15.75,18),\n",
    "        xytext=(13, 18),\n",
    "        text='- forti su palla inattiva',\n",
    "        xycoords='data',\n",
    "        textcoords='offset points',\n",
    "        ha='center',\n",
    "        va='center',\n",
    "        size=12\n",
    "    )\n",
    "    \n",
    "\n",
    "    return ax"
   ]
  },
  {
   "cell_type": "code",
   "execution_count": 18,
   "metadata": {},
   "outputs": [
    {
     "data": {
      "image/png": "[encoded data removed]",
      "text/plain": [
       "<Figure size 900x750 with 21 Axes>"
      ]
     },
     "metadata": {},
     "output_type": "display_data"
    }
   ],
   "source": [
    "fig = plt.figure(figsize=(12,10), dpi=75)\n",
    "ax = plt.subplot()\n",
    "plot_inequality(ax, fig, df)\n",
    "\n",
    "fig_text(\n",
    "    x = 0.11, y = 0.95, #1.035, \n",
    "    s = \"Condotta Disciplinare: Gol su Calci Piazzati\",\n",
    "    va = \"bottom\", ha = \"left\",\n",
    "    fontsize = 20, color = \"black\", font = \"DM Sans\", weight = \"bold\"\n",
    ")\n",
    "\n",
    "'''\n",
    "fig_text(\n",
    "\tx = 0.11, y = .895, \n",
    "    s = \"Inequality ratios on Serie A teams ball touches | Season 2021/2022 | Viz by @sonofacorner\\nPlayers with +1,000 minutes. Ordered from most unequal to least equal spread of touches.\\n\\n<- Gini> is an index that measures inequality within a population, it takes values from 0\\n (complete equality) to 1 (complete inequality).\\n<- Palma> is a ratio that can be interpreted as the top 10% of players with the most touches have \\nX times more touches than the bottom 40%.\\n<- Hoover> measures the amount of touches that would need to be redistributed for all players to\\nhave the same number of touches.\",\n",
    "    highlight_textprops=[{\"weight\": \"bold\", \"color\": \"black\"}, {\"weight\": \"bold\", \"color\": \"black\"}, {\"weight\": \"bold\", \"color\": \"black\"}],\n",
    "\tva = \"bottom\", ha = \"left\",\n",
    "\tfontsize = 8, color = \"#4E616C\", font = \"Karla\"\n",
    ")\n",
    "'''\n",
    "\n",
    "\n",
    "plt.savefig(\n",
    "\t\"figures/SerieA_SetPieces.png\",\n",
    "\tdpi = 600,\n",
    "\tfacecolor = \"#EFE9E6\",\n",
    "\tbbox_inches=\"tight\",\n",
    "    edgecolor=\"none\",\n",
    "\ttransparent = False\n",
    ")\n",
    "\n",
    "plt.savefig(\n",
    "\t\"figures/SerieA_SetPieces_tr.png\",\n",
    "\tdpi = 600,\n",
    "\tfacecolor = \"none\",\n",
    "\tbbox_inches=\"tight\",\n",
    "    edgecolor=\"none\",\n",
    "\ttransparent = True\n",
    ")\n"
   ]
  },
  {
   "cell_type": "code",
   "execution_count": 61,
   "metadata": {},
   "outputs": [
    {
     "data": {
      "application/vnd.plotly.v1+json": {
       "config": {
        "plotlyServerURL": "https://plot.ly"
       },
       "data": [
        {
         "branchvalues": "total",
         "domain": {
          "x": [
           0,
           1
          ],
          "y": [
           0,
           1
          ]
         },
         "hovertemplate": "labels=%{label}<br>SP=%{value}<br>parent=%{parent}<br>id=%{id}<extra></extra>",
         "ids": [
          "Atalanta",
          "Bologna",
          "Cremonese",
          "Empoli",
          "Fiorentina",
          "Hellas Verona",
          "Inter",
          "Juventus",
          "Lazio",
          "Lecce",
          "Milan",
          "Monza",
          "Napoli",
          "Roma",
          "Salernitana",
          "Sampdoria",
          "Sassuolo",
          "Spezia",
          "Torino",
          "Udinese"
         ],
         "labels": [
          "Napoli<br>17",
          "Juventus<br>17",
          "Roma<br>11",
          "Inter<br>10",
          "Fiorentina<br>10",
          "Udinese<br>9",
          "Atalanta<br>9",
          "Hellas Verona<br>7",
          "Lecce<br>6",
          "Empoli<br>6",
          "Salernitana<br>6",
          "Torino<br>6",
          "Sassuolo<br>6",
          "Monza<br>6",
          "Bologna<br>6",
          "Milan<br>6",
          "Lazio<br>5",
          "Cremonese<br>5",
          "Sampdoria<br>4",
          "Spezia<br>3"
         ],
         "name": "",
         "parents": [
          "",
          "",
          "",
          "",
          "",
          "",
          "",
          "",
          "",
          "",
          "",
          "",
          "",
          "",
          "",
          "",
          "",
          "",
          "",
          ""
         ],
         "type": "treemap",
         "values": [
          9,
          6,
          5,
          6,
          10,
          7,
          10,
          17,
          5,
          6,
          6,
          6,
          17,
          11,
          6,
          4,
          6,
          3,
          6,
          9
         ]
        }
       ],
       "layout": {
        "height": 1080,
        "legend": {
         "tracegroupgap": 0
        },
        "margin": {
         "b": 25,
         "l": 25,
         "r": 25,
         "t": 50
        },
        "template": {
         "data": {
          "bar": [
           {
            "error_x": {
             "color": "#2a3f5f"
            },
            "error_y": {
             "color": "#2a3f5f"
            },
            "marker": {
             "line": {
              "color": "#E5ECF6",
              "width": 0.5
             },
             "pattern": {
              "fillmode": "overlay",
              "size": 10,
              "solidity": 0.2
             }
            },
            "type": "bar"
           }
          ],
          "barpolar": [
           {
            "marker": {
             "line": {
              "color": "#E5ECF6",
              "width": 0.5
             },
             "pattern": {
              "fillmode": "overlay",
              "size": 10,
              "solidity": 0.2
             }
            },
            "type": "barpolar"
           }
          ],
          "carpet": [
           {
            "aaxis": {
             "endlinecolor": "#2a3f5f",
             "gridcolor": "white",
             "linecolor": "white",
             "minorgridcolor": "white",
             "startlinecolor": "#2a3f5f"
            },
            "baxis": {
             "endlinecolor": "#2a3f5f",
             "gridcolor": "white",
             "linecolor": "white",
             "minorgridcolor": "white",
             "startlinecolor": "#2a3f5f"
            },
            "type": "carpet"
           }
          ],
          "choropleth": [
           {
            "colorbar": {
             "outlinewidth": 0,
             "ticks": ""
            },
            "type": "choropleth"
           }
          ],
          "contour": [
           {
            "colorbar": {
             "outlinewidth": 0,
             "ticks": ""
            },
            "colorscale": [
             [
              0,
              "#0d0887"
             ],
             [
              0.1111111111111111,
              "#46039f"
             ],
             [
              0.2222222222222222,
              "#7201a8"
             ],
             [
              0.3333333333333333,
              "#9c179e"
             ],
             [
              0.4444444444444444,
              "#bd3786"
             ],
             [
              0.5555555555555556,
              "#d8576b"
             ],
             [
              0.6666666666666666,
              "#ed7953"
             ],
             [
              0.7777777777777778,
              "#fb9f3a"
             ],
             [
              0.8888888888888888,
              "#fdca26"
             ],
             [
              1,
              "#f0f921"
             ]
            ],
            "type": "contour"
           }
          ],
          "contourcarpet": [
           {
            "colorbar": {
             "outlinewidth": 0,
             "ticks": ""
            },
            "type": "contourcarpet"
           }
          ],
          "heatmap": [
           {
            "colorbar": {
             "outlinewidth": 0,
             "ticks": ""
            },
            "colorscale": [
             [
              0,
              "#0d0887"
             ],
             [
              0.1111111111111111,
              "#46039f"
             ],
             [
              0.2222222222222222,
              "#7201a8"
             ],
             [
              0.3333333333333333,
              "#9c179e"
             ],
             [
              0.4444444444444444,
              "#bd3786"
             ],
             [
              0.5555555555555556,
              "#d8576b"
             ],
             [
              0.6666666666666666,
              "#ed7953"
             ],
             [
              0.7777777777777778,
              "#fb9f3a"
             ],
             [
              0.8888888888888888,
              "#fdca26"
             ],
             [
              1,
              "#f0f921"
             ]
            ],
            "type": "heatmap"
           }
          ],
          "heatmapgl": [
           {
            "colorbar": {
             "outlinewidth": 0,
             "ticks": ""
            },
            "colorscale": [
             [
              0,
              "#0d0887"
             ],
             [
              0.1111111111111111,
              "#46039f"
             ],
             [
              0.2222222222222222,
              "#7201a8"
             ],
             [
              0.3333333333333333,
              "#9c179e"
             ],
             [
              0.4444444444444444,
              "#bd3786"
             ],
             [
              0.5555555555555556,
              "#d8576b"
             ],
             [
              0.6666666666666666,
              "#ed7953"
             ],
             [
              0.7777777777777778,
              "#fb9f3a"
             ],
             [
              0.8888888888888888,
              "#fdca26"
             ],
             [
              1,
              "#f0f921"
             ]
            ],
            "type": "heatmapgl"
           }
          ],
          "histogram": [
           {
            "marker": {
             "pattern": {
              "fillmode": "overlay",
              "size": 10,
              "solidity": 0.2
             }
            },
            "type": "histogram"
           }
          ],
          "histogram2d": [
           {
            "colorbar": {
             "outlinewidth": 0,
             "ticks": ""
            },
            "colorscale": [
             [
              0,
              "#0d0887"
             ],
             [
              0.1111111111111111,
              "#46039f"
             ],
             [
              0.2222222222222222,
              "#7201a8"
             ],
             [
              0.3333333333333333,
              "#9c179e"
             ],
             [
              0.4444444444444444,
              "#bd3786"
             ],
             [
              0.5555555555555556,
              "#d8576b"
             ],
             [
              0.6666666666666666,
              "#ed7953"
             ],
             [
              0.7777777777777778,
              "#fb9f3a"
             ],
             [
              0.8888888888888888,
              "#fdca26"
             ],
             [
              1,
              "#f0f921"
             ]
            ],
            "type": "histogram2d"
           }
          ],
          "histogram2dcontour": [
           {
            "colorbar": {
             "outlinewidth": 0,
             "ticks": ""
            },
            "colorscale": [
             [
              0,
              "#0d0887"
             ],
             [
              0.1111111111111111,
              "#46039f"
             ],
             [
              0.2222222222222222,
              "#7201a8"
             ],
             [
              0.3333333333333333,
              "#9c179e"
             ],
             [
              0.4444444444444444,
              "#bd3786"
             ],
             [
              0.5555555555555556,
              "#d8576b"
             ],
             [
              0.6666666666666666,
              "#ed7953"
             ],
             [
              0.7777777777777778,
              "#fb9f3a"
             ],
             [
              0.8888888888888888,
              "#fdca26"
             ],
             [
              1,
              "#f0f921"
             ]
            ],
            "type": "histogram2dcontour"
           }
          ],
          "mesh3d": [
           {
            "colorbar": {
             "outlinewidth": 0,
             "ticks": ""
            },
            "type": "mesh3d"
           }
          ],
          "parcoords": [
           {
            "line": {
             "colorbar": {
              "outlinewidth": 0,
              "ticks": ""
             }
            },
            "type": "parcoords"
           }
          ],
          "pie": [
           {
            "automargin": true,
            "type": "pie"
           }
          ],
          "scatter": [
           {
            "fillpattern": {
             "fillmode": "overlay",
             "size": 10,
             "solidity": 0.2
            },
            "type": "scatter"
           }
          ],
          "scatter3d": [
           {
            "line": {
             "colorbar": {
              "outlinewidth": 0,
              "ticks": ""
             }
            },
            "marker": {
             "colorbar": {
              "outlinewidth": 0,
              "ticks": ""
             }
            },
            "type": "scatter3d"
           }
          ],
          "scattercarpet": [
           {
            "marker": {
             "colorbar": {
              "outlinewidth": 0,
              "ticks": ""
             }
            },
            "type": "scattercarpet"
           }
          ],
          "scattergeo": [
           {
            "marker": {
             "colorbar": {
              "outlinewidth": 0,
              "ticks": ""
             }
            },
            "type": "scattergeo"
           }
          ],
          "scattergl": [
           {
            "marker": {
             "colorbar": {
              "outlinewidth": 0,
              "ticks": ""
             }
            },
            "type": "scattergl"
           }
          ],
          "scattermapbox": [
           {
            "marker": {
             "colorbar": {
              "outlinewidth": 0,
              "ticks": ""
             }
            },
            "type": "scattermapbox"
           }
          ],
          "scatterpolar": [
           {
            "marker": {
             "colorbar": {
              "outlinewidth": 0,
              "ticks": ""
             }
            },
            "type": "scatterpolar"
           }
          ],
          "scatterpolargl": [
           {
            "marker": {
             "colorbar": {
              "outlinewidth": 0,
              "ticks": ""
             }
            },
            "type": "scatterpolargl"
           }
          ],
          "scatterternary": [
           {
            "marker": {
             "colorbar": {
              "outlinewidth": 0,
              "ticks": ""
             }
            },
            "type": "scatterternary"
           }
          ],
          "surface": [
           {
            "colorbar": {
             "outlinewidth": 0,
             "ticks": ""
            },
            "colorscale": [
             [
              0,
              "#0d0887"
             ],
             [
              0.1111111111111111,
              "#46039f"
             ],
             [
              0.2222222222222222,
              "#7201a8"
             ],
             [
              0.3333333333333333,
              "#9c179e"
             ],
             [
              0.4444444444444444,
              "#bd3786"
             ],
             [
              0.5555555555555556,
              "#d8576b"
             ],
             [
              0.6666666666666666,
              "#ed7953"
             ],
             [
              0.7777777777777778,
              "#fb9f3a"
             ],
             [
              0.8888888888888888,
              "#fdca26"
             ],
             [
              1,
              "#f0f921"
             ]
            ],
            "type": "surface"
           }
          ],
          "table": [
           {
            "cells": {
             "fill": {
              "color": "#EBF0F8"
             },
             "line": {
              "color": "white"
             }
            },
            "header": {
             "fill": {
              "color": "#C8D4E3"
             },
             "line": {
              "color": "white"
             }
            },
            "type": "table"
           }
          ]
         },
         "layout": {
          "annotationdefaults": {
           "arrowcolor": "#2a3f5f",
           "arrowhead": 0,
           "arrowwidth": 1
          },
          "autotypenumbers": "strict",
          "coloraxis": {
           "colorbar": {
            "outlinewidth": 0,
            "ticks": ""
           }
          },
          "colorscale": {
           "diverging": [
            [
             0,
             "#8e0152"
            ],
            [
             0.1,
             "#c51b7d"
            ],
            [
             0.2,
             "#de77ae"
            ],
            [
             0.3,
             "#f1b6da"
            ],
            [
             0.4,
             "#fde0ef"
            ],
            [
             0.5,
             "#f7f7f7"
            ],
            [
             0.6,
             "#e6f5d0"
            ],
            [
             0.7,
             "#b8e186"
            ],
            [
             0.8,
             "#7fbc41"
            ],
            [
             0.9,
             "#4d9221"
            ],
            [
             1,
             "#276419"
            ]
           ],
           "sequential": [
            [
             0,
             "#0d0887"
            ],
            [
             0.1111111111111111,
             "#46039f"
            ],
            [
             0.2222222222222222,
             "#7201a8"
            ],
            [
             0.3333333333333333,
             "#9c179e"
            ],
            [
             0.4444444444444444,
             "#bd3786"
            ],
            [
             0.5555555555555556,
             "#d8576b"
            ],
            [
             0.6666666666666666,
             "#ed7953"
            ],
            [
             0.7777777777777778,
             "#fb9f3a"
            ],
            [
             0.8888888888888888,
             "#fdca26"
            ],
            [
             1,
             "#f0f921"
            ]
           ],
           "sequentialminus": [
            [
             0,
             "#0d0887"
            ],
            [
             0.1111111111111111,
             "#46039f"
            ],
            [
             0.2222222222222222,
             "#7201a8"
            ],
            [
             0.3333333333333333,
             "#9c179e"
            ],
            [
             0.4444444444444444,
             "#bd3786"
            ],
            [
             0.5555555555555556,
             "#d8576b"
            ],
            [
             0.6666666666666666,
             "#ed7953"
            ],
            [
             0.7777777777777778,
             "#fb9f3a"
            ],
            [
             0.8888888888888888,
             "#fdca26"
            ],
            [
             1,
             "#f0f921"
            ]
           ]
          },
          "colorway": [
           "#636efa",
           "#EF553B",
           "#00cc96",
           "#ab63fa",
           "#FFA15A",
           "#19d3f3",
           "#FF6692",
           "#B6E880",
           "#FF97FF",
           "#FECB52"
          ],
          "font": {
           "color": "#2a3f5f"
          },
          "geo": {
           "bgcolor": "white",
           "lakecolor": "white",
           "landcolor": "#E5ECF6",
           "showlakes": true,
           "showland": true,
           "subunitcolor": "white"
          },
          "hoverlabel": {
           "align": "left"
          },
          "hovermode": "closest",
          "mapbox": {
           "style": "light"
          },
          "paper_bgcolor": "white",
          "plot_bgcolor": "#E5ECF6",
          "polar": {
           "angularaxis": {
            "gridcolor": "white",
            "linecolor": "white",
            "ticks": ""
           },
           "bgcolor": "#E5ECF6",
           "radialaxis": {
            "gridcolor": "white",
            "linecolor": "white",
            "ticks": ""
           }
          },
          "scene": {
           "xaxis": {
            "backgroundcolor": "#E5ECF6",
            "gridcolor": "white",
            "gridwidth": 2,
            "linecolor": "white",
            "showbackground": true,
            "ticks": "",
            "zerolinecolor": "white"
           },
           "yaxis": {
            "backgroundcolor": "#E5ECF6",
            "gridcolor": "white",
            "gridwidth": 2,
            "linecolor": "white",
            "showbackground": true,
            "ticks": "",
            "zerolinecolor": "white"
           },
           "zaxis": {
            "backgroundcolor": "#E5ECF6",
            "gridcolor": "white",
            "gridwidth": 2,
            "linecolor": "white",
            "showbackground": true,
            "ticks": "",
            "zerolinecolor": "white"
           }
          },
          "shapedefaults": {
           "line": {
            "color": "#2a3f5f"
           }
          },
          "ternary": {
           "aaxis": {
            "gridcolor": "white",
            "linecolor": "white",
            "ticks": ""
           },
           "baxis": {
            "gridcolor": "white",
            "linecolor": "white",
            "ticks": ""
           },
           "bgcolor": "#E5ECF6",
           "caxis": {
            "gridcolor": "white",
            "linecolor": "white",
            "ticks": ""
           }
          },
          "title": {
           "x": 0.05
          },
          "xaxis": {
           "automargin": true,
           "gridcolor": "white",
           "linecolor": "white",
           "ticks": "",
           "title": {
            "standoff": 15
           },
           "zerolinecolor": "white",
           "zerolinewidth": 2
          },
          "yaxis": {
           "automargin": true,
           "gridcolor": "white",
           "linecolor": "white",
           "ticks": "",
           "title": {
            "standoff": 15
           },
           "zerolinecolor": "white",
           "zerolinewidth": 2
          }
         }
        },
        "treemapcolorway": [
         "#67001f",
         "#b2182b",
         "#d6604d",
         "#f4a582",
         "#fddbc7",
         "#f7f7f7",
         "#d1e5f0",
         "#92c5de",
         "#4393c3",
         "#2166ac",
         "#053061"
        ],
        "width": 1920
       }
      }
     },
     "metadata": {},
     "output_type": "display_data"
    }
   ],
   "source": [
    "import pathlib\n",
    "import plotly.express as px\n",
    "import pandas as pd\n",
    "\n",
    "\n",
    "def create_treemap_plotly(data):\n",
    "    fig = px.treemap(\n",
    "        data,\n",
    "        path=['Team'],\n",
    "        values = 'SP'\n",
    "    )\n",
    "\n",
    "    fig.data[0]['labels'] = create_label(data)\n",
    "\n",
    "    fig.update_layout(\n",
    "        treemapcolorway = ['#67001f','#b2182b','#d6604d','#f4a582','#fddbc7','#f7f7f7','#d1e5f0','#92c5de','#4393c3','#2166ac','#053061',], #defines the colors in the treemap\n",
    "        margin = dict(t=50, l=25, r=25, b=25),\n",
    "        width = 1920,\n",
    "        height = 1080,    \n",
    "    )\n",
    "    return fig\n",
    "\n",
    "def create_label(data):\n",
    "    return [str(row[1]) + \"<br>\" + str(row[2]) for _, row in data.iterrows()]\n",
    "    \n",
    "\n",
    "df = pd.read_csv('data/set_pieces.csv', index_col=0)\n",
    "df = df.sort_values(by='SP', ascending=False)\n",
    "create_treemap_plotly(df).show()\n",
    "    "
   ]
  },
  {
   "cell_type": "code",
   "execution_count": 30,
   "metadata": {},
   "outputs": [
    {
     "data": {
      "text/plain": [
       "0     17\n",
       "1      5\n",
       "2     17\n",
       "3     10\n",
       "4      9\n",
       "5      6\n",
       "6     11\n",
       "7     10\n",
       "8      6\n",
       "9      6\n",
       "10     6\n",
       "11     6\n",
       "12     9\n",
       "13     6\n",
       "14     6\n",
       "15     6\n",
       "16     7\n",
       "17     3\n",
       "18     5\n",
       "19     4\n",
       "Name: SP, dtype: int64"
      ]
     },
     "execution_count": 30,
     "metadata": {},
     "output_type": "execute_result"
    }
   ],
   "source": [
    "df.sort_values(by='SP', ascending=False)\n",
    "df['SP']"
   ]
  },
  {
   "cell_type": "code",
   "execution_count": 4,
   "metadata": {},
   "outputs": [
    {
     "data": {
      "text/html": [
       "<div>\n",
       "<style scoped>\n",
       "    .dataframe tbody tr th:only-of-type {\n",
       "        vertical-align: middle;\n",
       "    }\n",
       "\n",
       "    .dataframe tbody tr th {\n",
       "        vertical-align: top;\n",
       "    }\n",
       "\n",
       "    .dataframe thead th {\n",
       "        text-align: right;\n",
       "    }\n",
       "</style>\n",
       "<table border=\"1\" class=\"dataframe\">\n",
       "  <thead>\n",
       "    <tr style=\"text-align: right;\">\n",
       "      <th></th>\n",
       "      <th>team_id</th>\n",
       "      <th>Team</th>\n",
       "      <th>SP</th>\n",
       "      <th>OP</th>\n",
       "    </tr>\n",
       "  </thead>\n",
       "  <tbody>\n",
       "    <tr>\n",
       "      <th>0</th>\n",
       "      <td>9875</td>\n",
       "      <td>Napoli</td>\n",
       "      <td>17</td>\n",
       "      <td>41</td>\n",
       "    </tr>\n",
       "    <tr>\n",
       "      <th>1</th>\n",
       "      <td>9885</td>\n",
       "      <td>Juventus</td>\n",
       "      <td>17</td>\n",
       "      <td>26</td>\n",
       "    </tr>\n",
       "    <tr>\n",
       "      <th>2</th>\n",
       "      <td>8686</td>\n",
       "      <td>Roma</td>\n",
       "      <td>11</td>\n",
       "      <td>25</td>\n",
       "    </tr>\n",
       "    <tr>\n",
       "      <th>3</th>\n",
       "      <td>8636</td>\n",
       "      <td>Inter</td>\n",
       "      <td>10</td>\n",
       "      <td>39</td>\n",
       "    </tr>\n",
       "    <tr>\n",
       "      <th>4</th>\n",
       "      <td>8535</td>\n",
       "      <td>Fiorentina</td>\n",
       "      <td>10</td>\n",
       "      <td>26</td>\n",
       "    </tr>\n",
       "    <tr>\n",
       "      <th>5</th>\n",
       "      <td>8600</td>\n",
       "      <td>Udinese</td>\n",
       "      <td>9</td>\n",
       "      <td>28</td>\n",
       "    </tr>\n",
       "    <tr>\n",
       "      <th>6</th>\n",
       "      <td>8524</td>\n",
       "      <td>Atalanta</td>\n",
       "      <td>9</td>\n",
       "      <td>38</td>\n",
       "    </tr>\n",
       "    <tr>\n",
       "      <th>7</th>\n",
       "      <td>9876</td>\n",
       "      <td>Hellas Verona</td>\n",
       "      <td>7</td>\n",
       "      <td>16</td>\n",
       "    </tr>\n",
       "    <tr>\n",
       "      <th>8</th>\n",
       "      <td>9888</td>\n",
       "      <td>Lecce</td>\n",
       "      <td>6</td>\n",
       "      <td>15</td>\n",
       "    </tr>\n",
       "    <tr>\n",
       "      <th>9</th>\n",
       "      <td>8534</td>\n",
       "      <td>Empoli</td>\n",
       "      <td>6</td>\n",
       "      <td>19</td>\n",
       "    </tr>\n",
       "    <tr>\n",
       "      <th>10</th>\n",
       "      <td>6480</td>\n",
       "      <td>Salernitana</td>\n",
       "      <td>6</td>\n",
       "      <td>29</td>\n",
       "    </tr>\n",
       "    <tr>\n",
       "      <th>11</th>\n",
       "      <td>9804</td>\n",
       "      <td>Torino</td>\n",
       "      <td>6</td>\n",
       "      <td>28</td>\n",
       "    </tr>\n",
       "    <tr>\n",
       "      <th>12</th>\n",
       "      <td>7943</td>\n",
       "      <td>Sassuolo</td>\n",
       "      <td>6</td>\n",
       "      <td>24</td>\n",
       "    </tr>\n",
       "    <tr>\n",
       "      <th>13</th>\n",
       "      <td>6504</td>\n",
       "      <td>Monza</td>\n",
       "      <td>6</td>\n",
       "      <td>28</td>\n",
       "    </tr>\n",
       "    <tr>\n",
       "      <th>14</th>\n",
       "      <td>9857</td>\n",
       "      <td>Bologna</td>\n",
       "      <td>6</td>\n",
       "      <td>26</td>\n",
       "    </tr>\n",
       "    <tr>\n",
       "      <th>15</th>\n",
       "      <td>8564</td>\n",
       "      <td>Milan</td>\n",
       "      <td>6</td>\n",
       "      <td>36</td>\n",
       "    </tr>\n",
       "    <tr>\n",
       "      <th>16</th>\n",
       "      <td>8543</td>\n",
       "      <td>Lazio</td>\n",
       "      <td>5</td>\n",
       "      <td>42</td>\n",
       "    </tr>\n",
       "    <tr>\n",
       "      <th>17</th>\n",
       "      <td>7801</td>\n",
       "      <td>Cremonese</td>\n",
       "      <td>5</td>\n",
       "      <td>21</td>\n",
       "    </tr>\n",
       "    <tr>\n",
       "      <th>18</th>\n",
       "      <td>9882</td>\n",
       "      <td>Sampdoria</td>\n",
       "      <td>4</td>\n",
       "      <td>14</td>\n",
       "    </tr>\n",
       "    <tr>\n",
       "      <th>19</th>\n",
       "      <td>9881</td>\n",
       "      <td>Spezia</td>\n",
       "      <td>3</td>\n",
       "      <td>17</td>\n",
       "    </tr>\n",
       "  </tbody>\n",
       "</table>\n",
       "</div>"
      ],
      "text/plain": [
       "    team_id           Team  SP  OP\n",
       "0      9875         Napoli  17  41\n",
       "1      9885       Juventus  17  26\n",
       "2      8686           Roma  11  25\n",
       "3      8636          Inter  10  39\n",
       "4      8535     Fiorentina  10  26\n",
       "5      8600        Udinese   9  28\n",
       "6      8524       Atalanta   9  38\n",
       "7      9876  Hellas Verona   7  16\n",
       "8      9888          Lecce   6  15\n",
       "9      8534         Empoli   6  19\n",
       "10     6480    Salernitana   6  29\n",
       "11     9804         Torino   6  28\n",
       "12     7943       Sassuolo   6  24\n",
       "13     6504          Monza   6  28\n",
       "14     9857        Bologna   6  26\n",
       "15     8564          Milan   6  36\n",
       "16     8543          Lazio   5  42\n",
       "17     7801      Cremonese   5  21\n",
       "18     9882      Sampdoria   4  14\n",
       "19     9881         Spezia   3  17"
      ]
     },
     "execution_count": 4,
     "metadata": {},
     "output_type": "execute_result"
    }
   ],
   "source": [
    "df = pd.read_csv('data/set_pieces.csv', index_col=0)\n",
    "df = df.sort_values(by='SP', ascending=False).reset_index(drop=True)\n",
    "df"
   ]
  },
  {
   "cell_type": "code",
   "execution_count": 67,
   "metadata": {},
   "outputs": [],
   "source": [
    "def plot_inequality(ax, fig, df):\n",
    "    '''\n",
    "    This function helps us save a bit of code to plot\n",
    "    the different inequality metrics of our visual\n",
    "    '''\n",
    "\n",
    "    data = df.copy()\n",
    "    data = (\n",
    "        data\n",
    "        .sort_values(by = \"SP\", ascending = False)\n",
    "        .reset_index(drop = True)\n",
    "    )\n",
    "    width = 0.7\n",
    "\n",
    "    #fouls_per_card = data['Falli'] / data['Gialli']\n",
    "    #fouls_per_card.sort_values(ascending=True)\n",
    "\n",
    "    # Declare CMAP & Normalization\n",
    "    #norm = mcolors.Normalize(vmin=data['TotCartellini'].min(),vmax=data['TotCartellini'].max())\n",
    "    #cmap = plt.get_cmap('SOC')\n",
    "\n",
    "    # We specify the width of the bar\n",
    "    width_bar = 0.35\n",
    "\n",
    "    # Fouls conceded\n",
    "    ax.bar(\n",
    "        data.index, \n",
    "        data['SP'], \n",
    "        ec = \"black\", \n",
    "        lw = .75, \n",
    "        color = \"#005a9b\", \n",
    "        zorder = 3, \n",
    "        width = width_bar,\n",
    "        label = \"Calci Piazzati\"\n",
    "    )\n",
    "\n",
    "    ax.bar(\n",
    "        data.index + width_bar, \n",
    "        data['OP'], \n",
    "        ec = \"black\", \n",
    "        lw = .75, \n",
    "        color = \"#f4a261\", \n",
    "        zorder = 3, \n",
    "        width = width_bar,\n",
    "        label = \"Open Play\"\n",
    "    )\n",
    "    \n",
    "    ax.legend(\n",
    "        ncol = 2, \n",
    "        loc = \"upper center\", \n",
    "        bbox_to_anchor = (0.5, 1),#(0.45, 1.2),\n",
    "        frameon = False,\n",
    "        fontsize = 15\n",
    "    )\n",
    "    \n",
    "    # --- Axes transformations\n",
    "    ax.grid(ls='--', lw=1, color='lightgrey', axis='y')\n",
    "    ax.set_xlim(-1, 20)\n",
    "    ax.spines[\"top\"].set(visible = False)\n",
    "    ax.spines[\"right\"].set(visible = False)\n",
    "    ax.spines[\"left\"].set(visible = False)\n",
    "    #ax.spines[\"bottom\"].set(visible = False)\n",
    "    ax.xaxis.set_ticks([])\n",
    "    ax.yaxis.set_ticks([x for x in range(0, 51, 10)])\n",
    "\n",
    "    '''\n",
    "    xticks_ = ax.xaxis.set_ticks(\n",
    "        ticks = data.index,\n",
    "        labels = []\n",
    "    )\n",
    "    '''\n",
    "\n",
    "    '''\n",
    "    xticks_ = ax.xaxis.set_ticks(\n",
    "        ticks = data.index + width_bar/2,\n",
    "        labels = []\n",
    "    )\n",
    "    '''\n",
    "    \n",
    "    #ax.tick_params(labelsize = 8)\n",
    "\n",
    "    DC_to_FC = ax.transData.transform\n",
    "    FC_to_NFC = fig.transFigure.inverted().transform\n",
    "\n",
    "    # Native data to normalized data coordinates\n",
    "    DC_to_NFC = lambda x: FC_to_NFC(DC_to_FC(x))\n",
    "\n",
    "    fotmob_url = \"https://images.fotmob.com/image_resources/logo/teamlogo/\"\n",
    "    for index, teamId in enumerate(data[\"team_id\"]):\n",
    "        ax_coords = DC_to_NFC([index-width_bar/2, -ax.get_ylim()[1]*.05])\n",
    "        logo_ax = fig.add_axes([ax_coords[0], ax_coords[1], 0.03, 0.03], anchor = \"W\")\n",
    "        club_icon = Image.open(urllib.request.urlopen(f\"{fotmob_url}{teamId:.0f}.png\"))\n",
    "        logo_ax.imshow(club_icon)\n",
    "        logo_ax.axis(\"off\")\n",
    "    \n",
    "    #ax.tick_params(labelsize = 8)\n",
    "\n",
    "\n",
    "    # -- Figure title and arrows --------------------------------\n",
    "    \n",
    "    ax.annotate(\n",
    "        xy=(0,110),\n",
    "        xytext=(6, 110),#ax.get_ylim()[1]),\n",
    "        xycoords='data',\n",
    "        textcoords='data',\n",
    "        text='',\n",
    "        arrowprops=dict(arrowstyle='->',color='gray')\n",
    "    )\n",
    "    ax.annotate(\n",
    "        xy=(19,110),\n",
    "        xytext=(13, 110),\n",
    "        xycoords='data',\n",
    "        textcoords='data',\n",
    "        text='',\n",
    "        arrowprops=dict(arrowstyle='->',color='gray')\n",
    "    )\n",
    "    \n",
    "    ax.annotate(\n",
    "        xy=(2.8,93),\n",
    "        xytext=(6, 93),\n",
    "        text='+ fallosi',\n",
    "        xycoords='data',\n",
    "        textcoords='offset points',\n",
    "        ha='center',\n",
    "        va='center',\n",
    "        size=12\n",
    "    )\n",
    "    ax.annotate(\n",
    "        xy=(15.75,93),\n",
    "        xytext=(13, 93),\n",
    "        text='- fallosi',\n",
    "        xycoords='data',\n",
    "        textcoords='offset points',\n",
    "        ha='center',\n",
    "        va='center',\n",
    "        size=12\n",
    "    )\n",
    "    \n",
    "\n",
    "    return ax"
   ]
  },
  {
   "cell_type": "code",
   "execution_count": 68,
   "metadata": {},
   "outputs": [
    {
     "data": {
      "image/png": "[encoded data removed]",
      "text/plain": [
       "<Figure size 900x750 with 21 Axes>"
      ]
     },
     "metadata": {},
     "output_type": "display_data"
    }
   ],
   "source": [
    "fig = plt.figure(figsize=(12,10), dpi=75)\n",
    "ax = plt.subplot()\n",
    "plot_inequality(ax, fig, df)\n",
    "\n",
    "fig_text(\n",
    "    x = 0.11, y = 0.95, #1.035, \n",
    "    s = \"Condotta Disciplinare: Gol su Calci Piazzati e Open Play\",\n",
    "    va = \"bottom\", ha = \"left\",\n",
    "    fontsize = 20, color = \"black\", font = \"DM Sans\", weight = \"bold\"\n",
    ")\n",
    "\n",
    "'''\n",
    "fig_text(\n",
    "\tx = 0.11, y = .895, \n",
    "    s = \"Inequality ratios on Serie A teams ball touches | Season 2021/2022 | Viz by @sonofacorner\\nPlayers with +1,000 minutes. Ordered from most unequal to least equal spread of touches.\\n\\n<- Gini> is an index that measures inequality within a population, it takes values from 0\\n (complete equality) to 1 (complete inequality).\\n<- Palma> is a ratio that can be interpreted as the top 10% of players with the most touches have \\nX times more touches than the bottom 40%.\\n<- Hoover> measures the amount of touches that would need to be redistributed for all players to\\nhave the same number of touches.\",\n",
    "    highlight_textprops=[{\"weight\": \"bold\", \"color\": \"black\"}, {\"weight\": \"bold\", \"color\": \"black\"}, {\"weight\": \"bold\", \"color\": \"black\"}],\n",
    "\tva = \"bottom\", ha = \"left\",\n",
    "\tfontsize = 8, color = \"#4E616C\", font = \"Karla\"\n",
    ")\n",
    "'''\n",
    "\n",
    "\n",
    "plt.savefig(\n",
    "\t\"figures/SerieA_SP_OP_1.png\",\n",
    "\tdpi = 600,\n",
    "\tfacecolor = \"#EFE9E6\",\n",
    "\tbbox_inches=\"tight\",\n",
    "    edgecolor=\"none\",\n",
    "\ttransparent = False\n",
    ")\n",
    "\n",
    "plt.savefig(\n",
    "\t\"figures/SerieA_SP_OP_1_tr.png\",\n",
    "\tdpi = 600,\n",
    "\tfacecolor = \"none\",\n",
    "\tbbox_inches=\"tight\",\n",
    "    edgecolor=\"none\",\n",
    "\ttransparent = True\n",
    ")\n"
   ]
  },
  {
   "cell_type": "code",
   "execution_count": 37,
   "metadata": {},
   "outputs": [],
   "source": [
    "def plot_inequality(ax, fig, df):\n",
    "    '''\n",
    "    This function helps us save a bit of code to plot\n",
    "    the different inequality metrics of our visual\n",
    "    '''\n",
    "\n",
    "    data = df.copy()\n",
    "    data = (\n",
    "        data\n",
    "        .sort_values(by = \"SP\", ascending = False)\n",
    "        .reset_index(drop = True)\n",
    "    )\n",
    "    width = 0.7\n",
    "\n",
    "    #fouls_per_card = data['Falli'] / data['Gialli']\n",
    "    #fouls_per_card.sort_values(ascending=True)\n",
    "\n",
    "    # Declare CMAP & Normalization\n",
    "    #norm = mcolors.Normalize(vmin=data['TotCartellini'].min(),vmax=data['TotCartellini'].max())\n",
    "    #cmap = plt.get_cmap('SOC')\n",
    "\n",
    "    # We specify the width of the bar\n",
    "    width_bar = 0.35\n",
    "\n",
    "    # Home fouls committed\n",
    "    ax.bar(\n",
    "        data.index, \n",
    "        data['SP'], \n",
    "        ec = \"black\", \n",
    "        lw = .75, \n",
    "        color = \"#005a9b\", \n",
    "        zorder = 3, \n",
    "        width = 0.75,\n",
    "        label = \"Calci Piazzati\"\n",
    "    )\n",
    "\n",
    "    # Away fouls committed (notice the bottom param)\n",
    "    ax.bar(\n",
    "        data.index, \n",
    "        data['OP'], \n",
    "        bottom = data['SP'], # This creates the stacked chart \n",
    "        ec = \"black\", \n",
    "        lw = .75, \n",
    "        color = \"#f4a261\", \n",
    "        zorder = 3, \n",
    "        width = 0.75,\n",
    "        label = \"Open Play\"\n",
    "    )\n",
    "    \n",
    "    ax.legend(\n",
    "        ncol = 2, \n",
    "        loc = \"upper center\", \n",
    "        bbox_to_anchor = (0.5, 1),#(0.45, 1.2),\n",
    "        frameon = False,\n",
    "        fontsize = 15\n",
    "    )\n",
    "\n",
    "    # Annotate the bar charts\n",
    "\n",
    "    aux_counter = 0\n",
    "    for y_h, y_a in zip(data['SP'], data['OP']):\n",
    "        # annotate percentage of fouls in the center of the bar\n",
    "        home_text = ax.annotate(\n",
    "            xy = (aux_counter, y_h/2),\n",
    "            text = f\"{y_h/(y_h + y_a):.0%}\", # F-strings are cool :)\n",
    "            size = 12,\n",
    "            ha = \"center\",\n",
    "            va = \"center\",\n",
    "            weight = \"bold\",\n",
    "            color = \"white\",\n",
    "            rotation = 90\n",
    "        )\n",
    "\n",
    "        away_text = ax.annotate(\n",
    "            xy = (aux_counter, y_h + y_a/2), # Notice the sum of the bottom data.\n",
    "            text = f\"{y_a/(y_h + y_a):.0%}\",\n",
    "            size = 12,\n",
    "            ha = \"center\",\n",
    "            va = \"center\",\n",
    "            weight = \"bold\",\n",
    "            color = \"white\",\n",
    "            rotation = 90\n",
    "        )\n",
    "\n",
    "        home_text.set_path_effects(\n",
    "            [path_effects.Stroke(linewidth=1.75, foreground=\"black\"), path_effects.Normal()]\n",
    "        )\n",
    "\n",
    "        away_text.set_path_effects(\n",
    "            [path_effects.Stroke(linewidth=1.75, foreground=\"black\"), path_effects.Normal()]\n",
    "        )\n",
    "\n",
    "        aux_counter += 1\n",
    "\n",
    "    \n",
    "    # --- Axes transformations\n",
    "    ax.grid(ls='--', lw=1, color='lightgrey', axis='y')\n",
    "    ax.set_xlim(-1, 20)\n",
    "    ax.spines[\"top\"].set(visible = False)\n",
    "    ax.spines[\"right\"].set(visible = False)\n",
    "    ax.spines[\"left\"].set(visible = False)\n",
    "    #ax.spines[\"bottom\"].set(visible = False)\n",
    "    ax.xaxis.set_ticks([])\n",
    "    ax.yaxis.set_ticks([x for x in range(0, 61, 10)])\n",
    "\n",
    "    '''\n",
    "    xticks_ = ax.xaxis.set_ticks(\n",
    "        ticks = data.index,\n",
    "        labels = []\n",
    "    )\n",
    "    '''\n",
    "\n",
    "    #ax.tick_params(labelsize = 8)\n",
    "\n",
    "    DC_to_FC = ax.transData.transform\n",
    "    FC_to_NFC = fig.transFigure.inverted().transform\n",
    "\n",
    "    # Native data to normalized data coordinates\n",
    "    DC_to_NFC = lambda x: FC_to_NFC(DC_to_FC(x))\n",
    "\n",
    "    fotmob_url = \"https://images.fotmob.com/image_resources/logo/teamlogo/\"\n",
    "    for index, teamId in enumerate(data[\"team_id\"]):\n",
    "        ax_coords = DC_to_NFC([index-0.35, -ax.get_ylim()[1]*.05])\n",
    "        logo_ax = fig.add_axes([ax_coords[0], ax_coords[1], 0.03, 0.03], anchor = \"W\")\n",
    "        club_icon = Image.open(urllib.request.urlopen(f\"{fotmob_url}{teamId:.0f}.png\"))\n",
    "        logo_ax.imshow(club_icon)\n",
    "        logo_ax.axis(\"off\")\n",
    "    \n",
    "    #ax.tick_params(labelsize = 8)\n",
    "\n",
    "\n",
    "    # -- Figure title and arrows --------------------------------\n",
    "    \n",
    "    ax.annotate(\n",
    "        xy=(0,110),\n",
    "        xytext=(6, 110),#ax.get_ylim()[1]),\n",
    "        xycoords='data',\n",
    "        textcoords='data',\n",
    "        text='',\n",
    "        arrowprops=dict(arrowstyle='->',color='gray')\n",
    "    )\n",
    "    ax.annotate(\n",
    "        xy=(19,110),\n",
    "        xytext=(13, 110),\n",
    "        xycoords='data',\n",
    "        textcoords='data',\n",
    "        text='',\n",
    "        arrowprops=dict(arrowstyle='->',color='gray')\n",
    "    )\n",
    "    \n",
    "    ax.annotate(\n",
    "        xy=(2.8,93),\n",
    "        xytext=(6, 93),\n",
    "        text='+ fallosi',\n",
    "        xycoords='data',\n",
    "        textcoords='offset points',\n",
    "        ha='center',\n",
    "        va='center',\n",
    "        size=12\n",
    "    )\n",
    "    ax.annotate(\n",
    "        xy=(15.75,93),\n",
    "        xytext=(13, 93),\n",
    "        text='- fallosi',\n",
    "        xycoords='data',\n",
    "        textcoords='offset points',\n",
    "        ha='center',\n",
    "        va='center',\n",
    "        size=12\n",
    "    )\n",
    "    \n",
    "\n",
    "    return ax"
   ]
  },
  {
   "cell_type": "code",
   "execution_count": 38,
   "metadata": {},
   "outputs": [
    {
     "data": {
      "image/png": "[encoded data removed]",
      "text/plain": [
       "<Figure size 900x750 with 21 Axes>"
      ]
     },
     "metadata": {},
     "output_type": "display_data"
    }
   ],
   "source": [
    "fig = plt.figure(figsize=(12,10), dpi=75)\n",
    "ax = plt.subplot()\n",
    "plot_inequality(ax, fig, df)\n",
    "\n",
    "fig_text(\n",
    "    x = 0.11, y = 0.95, #1.035, \n",
    "    s = \"Condotta Disciplinare: Gol su Calci Piazzati e Open Play\",\n",
    "    va = \"bottom\", ha = \"left\",\n",
    "    fontsize = 20, color = \"black\", font = \"DM Sans\", weight = \"bold\"\n",
    ")\n",
    "\n",
    "'''\n",
    "fig_text(\n",
    "\tx = 0.11, y = .895, \n",
    "    s = \"Inequality ratios on Serie A teams ball touches | Season 2021/2022 | Viz by @sonofacorner\\nPlayers with +1,000 minutes. Ordered from most unequal to least equal spread of touches.\\n\\n<- Gini> is an index that measures inequality within a population, it takes values from 0\\n (complete equality) to 1 (complete inequality).\\n<- Palma> is a ratio that can be interpreted as the top 10% of players with the most touches have \\nX times more touches than the bottom 40%.\\n<- Hoover> measures the amount of touches that would need to be redistributed for all players to\\nhave the same number of touches.\",\n",
    "    highlight_textprops=[{\"weight\": \"bold\", \"color\": \"black\"}, {\"weight\": \"bold\", \"color\": \"black\"}, {\"weight\": \"bold\", \"color\": \"black\"}],\n",
    "\tva = \"bottom\", ha = \"left\",\n",
    "\tfontsize = 8, color = \"#4E616C\", font = \"Karla\"\n",
    ")\n",
    "'''\n",
    "\n",
    "\n",
    "plt.savefig(\n",
    "\t\"figures/SerieA_SP_OP_2.png\",\n",
    "\tdpi = 600,\n",
    "\tfacecolor = \"#EFE9E6\",\n",
    "\tbbox_inches=\"tight\",\n",
    "    edgecolor=\"none\",\n",
    "\ttransparent = False\n",
    ")\n",
    "\n",
    "plt.savefig(\n",
    "\t\"figures/SerieA_SP_OP_2_tr.png\",\n",
    "\tdpi = 600,\n",
    "\tfacecolor = \"none\",\n",
    "\tbbox_inches=\"tight\",\n",
    "    edgecolor=\"none\",\n",
    "\ttransparent = True\n",
    ")\n"
   ]
  },
  {
   "cell_type": "code",
   "execution_count": 51,
   "metadata": {},
   "outputs": [
    {
     "data": {
      "text/html": [
       "<div>\n",
       "<style scoped>\n",
       "    .dataframe tbody tr th:only-of-type {\n",
       "        vertical-align: middle;\n",
       "    }\n",
       "\n",
       "    .dataframe tbody tr th {\n",
       "        vertical-align: top;\n",
       "    }\n",
       "\n",
       "    .dataframe thead th {\n",
       "        text-align: right;\n",
       "    }\n",
       "</style>\n",
       "<table border=\"1\" class=\"dataframe\">\n",
       "  <thead>\n",
       "    <tr style=\"text-align: right;\">\n",
       "      <th></th>\n",
       "      <th>team_id</th>\n",
       "      <th>Team</th>\n",
       "      <th>SP</th>\n",
       "      <th>OP</th>\n",
       "      <th>ratio</th>\n",
       "    </tr>\n",
       "  </thead>\n",
       "  <tbody>\n",
       "    <tr>\n",
       "      <th>0</th>\n",
       "      <td>9875</td>\n",
       "      <td>Napoli</td>\n",
       "      <td>17</td>\n",
       "      <td>41</td>\n",
       "      <td>0.49</td>\n",
       "    </tr>\n",
       "    <tr>\n",
       "      <th>1</th>\n",
       "      <td>9885</td>\n",
       "      <td>Juventus</td>\n",
       "      <td>17</td>\n",
       "      <td>26</td>\n",
       "      <td>0.49</td>\n",
       "    </tr>\n",
       "    <tr>\n",
       "      <th>2</th>\n",
       "      <td>8686</td>\n",
       "      <td>Roma</td>\n",
       "      <td>11</td>\n",
       "      <td>25</td>\n",
       "      <td>0.31</td>\n",
       "    </tr>\n",
       "    <tr>\n",
       "      <th>3</th>\n",
       "      <td>8636</td>\n",
       "      <td>Inter</td>\n",
       "      <td>10</td>\n",
       "      <td>39</td>\n",
       "      <td>0.29</td>\n",
       "    </tr>\n",
       "    <tr>\n",
       "      <th>4</th>\n",
       "      <td>8535</td>\n",
       "      <td>Fiorentina</td>\n",
       "      <td>10</td>\n",
       "      <td>26</td>\n",
       "      <td>0.29</td>\n",
       "    </tr>\n",
       "    <tr>\n",
       "      <th>5</th>\n",
       "      <td>8600</td>\n",
       "      <td>Udinese</td>\n",
       "      <td>9</td>\n",
       "      <td>28</td>\n",
       "      <td>0.26</td>\n",
       "    </tr>\n",
       "    <tr>\n",
       "      <th>6</th>\n",
       "      <td>8524</td>\n",
       "      <td>Atalanta</td>\n",
       "      <td>9</td>\n",
       "      <td>38</td>\n",
       "      <td>0.26</td>\n",
       "    </tr>\n",
       "    <tr>\n",
       "      <th>7</th>\n",
       "      <td>9876</td>\n",
       "      <td>Hellas Verona</td>\n",
       "      <td>7</td>\n",
       "      <td>16</td>\n",
       "      <td>0.20</td>\n",
       "    </tr>\n",
       "    <tr>\n",
       "      <th>10</th>\n",
       "      <td>6480</td>\n",
       "      <td>Salernitana</td>\n",
       "      <td>6</td>\n",
       "      <td>29</td>\n",
       "      <td>0.17</td>\n",
       "    </tr>\n",
       "    <tr>\n",
       "      <th>8</th>\n",
       "      <td>9888</td>\n",
       "      <td>Lecce</td>\n",
       "      <td>6</td>\n",
       "      <td>15</td>\n",
       "      <td>0.17</td>\n",
       "    </tr>\n",
       "    <tr>\n",
       "      <th>9</th>\n",
       "      <td>8534</td>\n",
       "      <td>Empoli</td>\n",
       "      <td>6</td>\n",
       "      <td>19</td>\n",
       "      <td>0.17</td>\n",
       "    </tr>\n",
       "    <tr>\n",
       "      <th>11</th>\n",
       "      <td>9804</td>\n",
       "      <td>Torino</td>\n",
       "      <td>6</td>\n",
       "      <td>28</td>\n",
       "      <td>0.17</td>\n",
       "    </tr>\n",
       "    <tr>\n",
       "      <th>14</th>\n",
       "      <td>9857</td>\n",
       "      <td>Bologna</td>\n",
       "      <td>6</td>\n",
       "      <td>26</td>\n",
       "      <td>0.17</td>\n",
       "    </tr>\n",
       "    <tr>\n",
       "      <th>13</th>\n",
       "      <td>6504</td>\n",
       "      <td>Monza</td>\n",
       "      <td>6</td>\n",
       "      <td>28</td>\n",
       "      <td>0.17</td>\n",
       "    </tr>\n",
       "    <tr>\n",
       "      <th>15</th>\n",
       "      <td>8564</td>\n",
       "      <td>Milan</td>\n",
       "      <td>6</td>\n",
       "      <td>36</td>\n",
       "      <td>0.17</td>\n",
       "    </tr>\n",
       "    <tr>\n",
       "      <th>12</th>\n",
       "      <td>7943</td>\n",
       "      <td>Sassuolo</td>\n",
       "      <td>6</td>\n",
       "      <td>24</td>\n",
       "      <td>0.17</td>\n",
       "    </tr>\n",
       "    <tr>\n",
       "      <th>16</th>\n",
       "      <td>8543</td>\n",
       "      <td>Lazio</td>\n",
       "      <td>5</td>\n",
       "      <td>42</td>\n",
       "      <td>0.14</td>\n",
       "    </tr>\n",
       "    <tr>\n",
       "      <th>17</th>\n",
       "      <td>7801</td>\n",
       "      <td>Cremonese</td>\n",
       "      <td>5</td>\n",
       "      <td>21</td>\n",
       "      <td>0.14</td>\n",
       "    </tr>\n",
       "    <tr>\n",
       "      <th>18</th>\n",
       "      <td>9882</td>\n",
       "      <td>Sampdoria</td>\n",
       "      <td>4</td>\n",
       "      <td>14</td>\n",
       "      <td>0.11</td>\n",
       "    </tr>\n",
       "    <tr>\n",
       "      <th>19</th>\n",
       "      <td>9881</td>\n",
       "      <td>Spezia</td>\n",
       "      <td>3</td>\n",
       "      <td>17</td>\n",
       "      <td>0.09</td>\n",
       "    </tr>\n",
       "  </tbody>\n",
       "</table>\n",
       "</div>"
      ],
      "text/plain": [
       "    team_id           Team  SP  OP  ratio\n",
       "0      9875         Napoli  17  41   0.49\n",
       "1      9885       Juventus  17  26   0.49\n",
       "2      8686           Roma  11  25   0.31\n",
       "3      8636          Inter  10  39   0.29\n",
       "4      8535     Fiorentina  10  26   0.29\n",
       "5      8600        Udinese   9  28   0.26\n",
       "6      8524       Atalanta   9  38   0.26\n",
       "7      9876  Hellas Verona   7  16   0.20\n",
       "10     6480    Salernitana   6  29   0.17\n",
       "8      9888          Lecce   6  15   0.17\n",
       "9      8534         Empoli   6  19   0.17\n",
       "11     9804         Torino   6  28   0.17\n",
       "14     9857        Bologna   6  26   0.17\n",
       "13     6504          Monza   6  28   0.17\n",
       "15     8564          Milan   6  36   0.17\n",
       "12     7943       Sassuolo   6  24   0.17\n",
       "16     8543          Lazio   5  42   0.14\n",
       "17     7801      Cremonese   5  21   0.14\n",
       "18     9882      Sampdoria   4  14   0.11\n",
       "19     9881         Spezia   3  17   0.09"
      ]
     },
     "execution_count": 51,
     "metadata": {},
     "output_type": "execute_result"
    }
   ],
   "source": [
    "df[\"ratio\"] = df[\"SP\"]/35\n",
    "df['ratio'] = np.round(df['ratio'], decimals=2)\n",
    "df = df.sort_values(by = \"ratio\", ascending = False)\n",
    "\n",
    "# We define our series to be plotted\n",
    "ratio = df[\"ratio\"].reset_index(drop = True)\n",
    "df"
   ]
  },
  {
   "cell_type": "code",
   "execution_count": 46,
   "metadata": {},
   "outputs": [],
   "source": [
    "gradient = [\n",
    "'#146cf6',\n",
    "'#1878cf',\n",
    "'#01a6c3',\n",
    "'#00a589',\n",
    "'#029733',\n",
    "'#02ac02',\n",
    "'#899f84',\n",
    "'#cbc000',\n",
    "'#d2a900',\n",
    "'#d88300',\n",
    "'#d75609',\n",
    "'#da2908',\n",
    "'#cb0000'\n",
    "]\n",
    "\n",
    "gradient.reverse()\n",
    "\n",
    "soc_cm = mcolors.LinearSegmentedColormap.from_list('SOC', gradient, N=50)\n",
    "cm.register_cmap(name='SOC', cmap=soc_cm)"
   ]
  },
  {
   "cell_type": "code",
   "execution_count": 64,
   "metadata": {},
   "outputs": [],
   "source": [
    "def plot_inequality(ax, fig, df):\n",
    "    '''\n",
    "    This function helps us save a bit of code to plot\n",
    "    the different inequality metrics of our visual\n",
    "    '''\n",
    "\n",
    "    data = df.copy()\n",
    "    data = (\n",
    "        data\n",
    "        .sort_values(by = \"ratio\", ascending = False)\n",
    "        .reset_index(drop = True)\n",
    "    )\n",
    "    width = 0.7\n",
    "\n",
    "    #fouls_per_card = data['Falli'] / data['Gialli']\n",
    "    #fouls_per_card.sort_values(ascending=True)\n",
    "\n",
    "    # Declare CMAP & Normalization\n",
    "    norm = mcolors.Normalize(vmin=data['ratio'].min(),vmax=data['ratio'].max())\n",
    "    cmap = plt.get_cmap('SOC')\n",
    "    ax.bar(\n",
    "        data.index, \n",
    "        data['ratio'],\n",
    "        color=cmap(norm(data['ratio'])),\n",
    "        #ec = \"#000000\", \n",
    "        #fc = \"#74959A\", \n",
    "        #alpha = 1,\n",
    "        zorder = 3, \n",
    "        width = width\n",
    "    )\n",
    "\n",
    "    for index, value in enumerate(data['ratio']):\n",
    "    \n",
    "        format_str = f\"{value}\"\n",
    "        text_ = ax.annotate(\n",
    "            xy = (index, value-0.01),\n",
    "            xytext = (1, -15),\n",
    "            text = format_str,\n",
    "            textcoords = \"offset points\",\n",
    "            rotation = 90,\n",
    "            ha = \"center\",\n",
    "            va = \"center\",\n",
    "            color = \"black\",\n",
    "            size = 15\n",
    "        )\n",
    "        text_.set_path_effects(\n",
    "            [path_effects.Stroke(linewidth=2, foreground=\"white\"), \n",
    "            path_effects.Normal()]\n",
    "        )\n",
    "\n",
    "    # --- Axes transformations\n",
    "    ax.grid(ls='--', lw=1, color='lightgrey', axis='y')\n",
    "    ax.set_xlim(-1, 20)\n",
    "    ax.spines[\"top\"].set(visible = False)\n",
    "    ax.spines[\"right\"].set(visible = False)\n",
    "    ax.spines[\"left\"].set(visible = False)\n",
    "    #ax.spines[\"bottom\"].set(visible = False)\n",
    "    ax.xaxis.set_ticks([])\n",
    "    ax.yaxis.set_ticks(np.arange(0, 0.7, 0.1))\n",
    "\n",
    "    '''\n",
    "    xticks_ = ax.xaxis.set_ticks(\n",
    "        ticks = data.index,\n",
    "        labels = []\n",
    "    )\n",
    "    '''\n",
    "\n",
    "    #ax.tick_params(labelsize = 8)\n",
    "\n",
    "    DC_to_FC = ax.transData.transform\n",
    "    FC_to_NFC = fig.transFigure.inverted().transform\n",
    "\n",
    "    # Native data to normalized data coordinates\n",
    "    DC_to_NFC = lambda x: FC_to_NFC(DC_to_FC(x))\n",
    "\n",
    "    fotmob_url = \"https://images.fotmob.com/image_resources/logo/teamlogo/\"\n",
    "    for index, teamId in enumerate(data[\"team_id\"]):\n",
    "        ax_coords = DC_to_NFC([index - 0.35, -ax.get_ylim()[1]*.05])\n",
    "        logo_ax = fig.add_axes([ax_coords[0], ax_coords[1], 0.03, 0.03], anchor = \"W\")\n",
    "        club_icon = Image.open(urllib.request.urlopen(f\"{fotmob_url}{teamId:.0f}.png\"))\n",
    "        logo_ax.imshow(club_icon)\n",
    "        logo_ax.axis(\"off\")\n",
    "    \n",
    "    #ax.tick_params(labelsize = 8)\n",
    "\n",
    "    # -- Figure title and arrows --------------------------------\n",
    "    \n",
    "    ax.annotate(\n",
    "        xy=(0,0.5),\n",
    "        xytext=(6, 0.5),#ax.get_ylim()[1]),\n",
    "        xycoords='data',\n",
    "        textcoords='data',\n",
    "        text='',\n",
    "        arrowprops=dict(arrowstyle='->',color='gray')\n",
    "    )\n",
    "    ax.annotate(\n",
    "        xy=(19,0.5),\n",
    "        xytext=(13, 0.5),\n",
    "        xycoords='data',\n",
    "        textcoords='data',\n",
    "        text='',\n",
    "        arrowprops=dict(arrowstyle='->',color='gray')\n",
    "    )\n",
    "    \n",
    "    ax.annotate(\n",
    "        xy=(2.8,0.51),\n",
    "        xytext=(6, 0.51),\n",
    "        text='+ forti su palla inattiva',\n",
    "        xycoords='data',\n",
    "        textcoords='offset points',\n",
    "        ha='center',\n",
    "        va='center',\n",
    "        size=12\n",
    "    )\n",
    "    ax.annotate(\n",
    "        xy=(15.75,0.51),\n",
    "        xytext=(13, 0.51),\n",
    "        text='- forti su palla inattiva',\n",
    "        xycoords='data',\n",
    "        textcoords='offset points',\n",
    "        ha='center',\n",
    "        va='center',\n",
    "        size=12\n",
    "    )\n",
    "    \n",
    "\n",
    "    return ax"
   ]
  },
  {
   "cell_type": "code",
   "execution_count": 65,
   "metadata": {},
   "outputs": [
    {
     "data": {
      "image/png": "[encoded data removed]",
      "text/plain": [
       "<Figure size 900x750 with 21 Axes>"
      ]
     },
     "metadata": {},
     "output_type": "display_data"
    }
   ],
   "source": [
    "fig = plt.figure(figsize=(12,10), dpi=75)\n",
    "ax = plt.subplot()\n",
    "plot_inequality(ax, fig, df)\n",
    "\n",
    "fig_text(\n",
    "    x = 0.11, y = 0.95, #1.035, \n",
    "    s = \"Condotta Disciplinare: Gol su Calci Piazzati per partita\",\n",
    "    va = \"bottom\", ha = \"left\",\n",
    "    fontsize = 20, color = \"black\", font = \"DM Sans\", weight = \"bold\"\n",
    ")\n",
    "\n",
    "'''\n",
    "fig_text(\n",
    "\tx = 0.11, y = .895, \n",
    "    s = \"Inequality ratios on Serie A teams ball touches | Season 2021/2022 | Viz by @sonofacorner\\nPlayers with +1,000 minutes. Ordered from most unequal to least equal spread of touches.\\n\\n<- Gini> is an index that measures inequality within a population, it takes values from 0\\n (complete equality) to 1 (complete inequality).\\n<- Palma> is a ratio that can be interpreted as the top 10% of players with the most touches have \\nX times more touches than the bottom 40%.\\n<- Hoover> measures the amount of touches that would need to be redistributed for all players to\\nhave the same number of touches.\",\n",
    "    highlight_textprops=[{\"weight\": \"bold\", \"color\": \"black\"}, {\"weight\": \"bold\", \"color\": \"black\"}, {\"weight\": \"bold\", \"color\": \"black\"}],\n",
    "\tva = \"bottom\", ha = \"left\",\n",
    "\tfontsize = 8, color = \"#4E616C\", font = \"Karla\"\n",
    ")\n",
    "'''\n",
    "\n",
    "\n",
    "plt.savefig(\n",
    "\t\"figures/SerieA_SetPieces_p90.png\",\n",
    "\tdpi = 600,\n",
    "\tfacecolor = \"#EFE9E6\",\n",
    "\tbbox_inches=\"tight\",\n",
    "    edgecolor=\"none\",\n",
    "\ttransparent = False\n",
    ")\n",
    "\n",
    "plt.savefig(\n",
    "\t\"figures/SerieA_SetPieces_p90_tr.png\",\n",
    "\tdpi = 600,\n",
    "\tfacecolor = \"none\",\n",
    "\tbbox_inches=\"tight\",\n",
    "    edgecolor=\"none\",\n",
    "\ttransparent = True\n",
    ")\n"
   ]
  }
 ],
 "metadata": {
  "kernelspec": {
   "display_name": "Python 3.7.9 ('.env': venv)",
   "language": "python",
   "name": "python3"
  },
  "language_info": {
   "codemirror_mode": {
    "name": "ipython",
    "version": 3
   },
   "file_extension": ".py",
   "mimetype": "text/x-python",
   "name": "python",
   "nbconvert_exporter": "python",
   "pygments_lexer": "ipython3",
   "version": "3.9.7"
  },
  "orig_nbformat": 4,
  "vscode": {
   "interpreter": {
    "hash": "fa6b32bf6f90d04a8aa8b0af01793687c280b6d0752f4889c5de5f377f32c238"
   }
  }
 },
 "nbformat": 4,
 "nbformat_minor": 2
}
